{
 "cells": [
  {
   "cell_type": "code",
   "execution_count": 119,
   "outputs": [
    {
     "name": "stdout",
     "output_type": "stream",
     "text": [
      "The autoreload extension is already loaded. To reload it, use:\n",
      "  %reload_ext autoreload\n",
      "one HotLst: \n",
      " ['HostInterface_Type', 'Data_Cache_Sharing_Mode', 'CMT_Sharing_Mode', 'Plane_Allocation_Scheme', 'Transaction_Scheduling_Policy', 'GC_Block_Selection_Policy', 'Flash_Technology', 'CMD_Suspension_Support', 'Address_Distribution', 'Request_Size_Distribution']\n",
      "rmLst: \n",
      " ['ssdSeed', 'workloadSeed', 'Enable_ResponseTime_Logging', 'ResponseTime_Logging_Period_Length', 'Enabled_Preconditioning', 'Memory_Type', 'Caching_Mechanism', 'Address_Mapping', 'Flash_Comm_Protocol', 'Page_Capacity', 'Page_Metadat_Capacity', 'Priority_Class', 'Device_Level_Data_Caching_Mode', 'Channel_IDs', 'Chip_IDs', 'Die_IDs', 'Plane_IDs', 'Initial_Occupancy_Percentage', 'Synthetic_Generator_Type', 'Percentage_of_Hot_Region', 'Address_Alignment_Unit', 'Stop_Time', 'Total_Requests_To_Generate']\n"
     ]
    }
   ],
   "source": [
    "import pandas as pd\n",
    "from sklearn.model_selection import train_test_split\n",
    "from sklearn.linear_model import LinearRegression  # 假设使用线性回归作为预测模型\n",
    "\n",
    "\n",
    "%load_ext autoreload\n",
    "%autoreload 2\n",
    "from script.temp.tools.data_utils import data_utils\n",
    "data = data_utils('config.xlsx','result.xlsx')"
   ],
   "metadata": {
    "collapsed": false
   }
  },
  {
   "cell_type": "code",
   "execution_count": 111,
   "outputs": [
    {
     "data": {
      "text/plain": "PCIe_Lane_Bandwidth                     3.83308\nPCIe_Lane_Count                              20\nSATA_Processing_Delay                   1633859\nIO_Queue_Depth                           280249\nQueue_Fetch_Size                           2048\n                                         ...   \nCMD_Suspension_Support_PROGRAM_ERASE          0\nAddress_Distribution_RANDOM_UNIFORM           0\nAddress_Distribution_STREAMING                1\nRequest_Size_Distribution_FIXED               1\nRequest_Size_Distribution_NORMAL              0\nName: 1, Length: 100, dtype: object"
     },
     "execution_count": 111,
     "metadata": {},
     "output_type": "execute_result"
    }
   ],
   "source": [
    "X = data.X\n",
    "y = data.Y\n",
    "from sklearn.preprocessing import MinMaxScaler\n",
    "\n",
    "# 创建 MinMaxScaler 对象\n",
    "scaler = MinMaxScaler(feature_range=(0, 1))\n",
    "\n",
    "# 对每列进行 Min-Max 标准化\n",
    "y_scaled = pd.DataFrame(columns=y.columns)\n",
    "for col in y.columns:\n",
    "    y_scaled[col] = scaler.fit_transform(y[col].values.reshape(-1, 1)).flatten()\n"
   ],
   "metadata": {
    "collapsed": false
   }
  },
  {
   "cell_type": "code",
   "execution_count": 112,
   "outputs": [
    {
     "name": "stdout",
     "output_type": "stream",
     "text": [
      "训练集均方误差: 5415516792122517.0\n",
      "测试集均方误差: 1.0050038634416773e+17\n"
     ]
    }
   ],
   "source": [
    "from sklearn.ensemble import RandomForestRegressor\n",
    "from sklearn.metrics import mean_squared_error\n",
    "\n",
    "# 创建并训练随机森林回归模型\n",
    "model = RandomForestRegressor(n_estimators=100, random_state=42)  # 设置100个决策树\n",
    "model.fit(X_train, y_train)\n",
    "\n",
    "# 在训练集和测试集上进行预测\n",
    "y_train_pred = model.predict(X_train)\n",
    "y_test_pred = model.predict(X_test)\n",
    "\n",
    "# 计算均方误差（MSE）来评估模型性能\n",
    "train_mse = mean_squared_error(y_train, y_train_pred)\n",
    "test_mse = mean_squared_error(y_test, y_test_pred)\n",
    "\n",
    "print(\"训练集均方误差:\", train_mse)\n",
    "print(\"测试集均方误差:\", test_mse)"
   ],
   "metadata": {
    "collapsed": false
   }
  },
  {
   "cell_type": "code",
   "execution_count": 113,
   "outputs": [
    {
     "name": "stdout",
     "output_type": "stream",
     "text": [
      "训练集平均百分比误差: IOPS_Read          129.340837\n",
      "IOPS_Write                inf\n",
      "Bandwidth_Read     175.056682\n",
      "Bandwidth_Write           inf\n",
      "dtype: float64\n",
      "测试集平均百分比误差: IOPS_Read          466.083738\n",
      "IOPS_Write                inf\n",
      "Bandwidth_Read     322.302163\n",
      "Bandwidth_Write           inf\n",
      "dtype: float64\n"
     ]
    }
   ],
   "source": [
    "train_percentage_error = 100 * abs(y_train - y_train_pred) / abs(y_train)\n",
    "test_percentage_error = 100 * abs(y_test - y_test_pred) / abs(y_test)\n",
    "\n",
    "# 计算平均百分比误差\n",
    "train_mean_percentage_error = train_percentage_error.mean()\n",
    "test_mean_percentage_error = test_percentage_error.mean()\n",
    "\n",
    "print(\"训练集平均百分比误差:\", train_mean_percentage_error)\n",
    "print(\"测试集平均百分比误差:\", test_mean_percentage_error)"
   ],
   "metadata": {
    "collapsed": false
   }
  },
  {
   "cell_type": "code",
   "execution_count": 118,
   "outputs": [
    {
     "data": {
      "text/plain": "        IOPS_Read   IOPS_Write  Bandwidth_Read  Bandwidth_Write\n898    359.736221    82.207057      658.414832       252.629985\n1062    33.331534          inf       24.838424              inf\n1254    27.199796   318.583942       90.962759       578.017843\n298    549.447113    47.512131     1294.256080       131.198936\n237      4.105308    10.087584       17.455099        23.685300\n...           ...          ...             ...              ...\n534    220.996403    52.715909      170.572396        42.831728\n542   1889.254324  2614.789920      293.735492       495.773132\n895     26.896633    12.597251       21.434327         9.419648\n1092    95.903262     0.270131       80.760267         5.226994\n1283     8.672530          inf       17.003250              inf\n\n[268 rows x 4 columns]",
      "text/html": "<div>\n<style scoped>\n    .dataframe tbody tr th:only-of-type {\n        vertical-align: middle;\n    }\n\n    .dataframe tbody tr th {\n        vertical-align: top;\n    }\n\n    .dataframe thead th {\n        text-align: right;\n    }\n</style>\n<table border=\"1\" class=\"dataframe\">\n  <thead>\n    <tr style=\"text-align: right;\">\n      <th></th>\n      <th>IOPS_Read</th>\n      <th>IOPS_Write</th>\n      <th>Bandwidth_Read</th>\n      <th>Bandwidth_Write</th>\n    </tr>\n  </thead>\n  <tbody>\n    <tr>\n      <th>898</th>\n      <td>359.736221</td>\n      <td>82.207057</td>\n      <td>658.414832</td>\n      <td>252.629985</td>\n    </tr>\n    <tr>\n      <th>1062</th>\n      <td>33.331534</td>\n      <td>inf</td>\n      <td>24.838424</td>\n      <td>inf</td>\n    </tr>\n    <tr>\n      <th>1254</th>\n      <td>27.199796</td>\n      <td>318.583942</td>\n      <td>90.962759</td>\n      <td>578.017843</td>\n    </tr>\n    <tr>\n      <th>298</th>\n      <td>549.447113</td>\n      <td>47.512131</td>\n      <td>1294.256080</td>\n      <td>131.198936</td>\n    </tr>\n    <tr>\n      <th>237</th>\n      <td>4.105308</td>\n      <td>10.087584</td>\n      <td>17.455099</td>\n      <td>23.685300</td>\n    </tr>\n    <tr>\n      <th>...</th>\n      <td>...</td>\n      <td>...</td>\n      <td>...</td>\n      <td>...</td>\n    </tr>\n    <tr>\n      <th>534</th>\n      <td>220.996403</td>\n      <td>52.715909</td>\n      <td>170.572396</td>\n      <td>42.831728</td>\n    </tr>\n    <tr>\n      <th>542</th>\n      <td>1889.254324</td>\n      <td>2614.789920</td>\n      <td>293.735492</td>\n      <td>495.773132</td>\n    </tr>\n    <tr>\n      <th>895</th>\n      <td>26.896633</td>\n      <td>12.597251</td>\n      <td>21.434327</td>\n      <td>9.419648</td>\n    </tr>\n    <tr>\n      <th>1092</th>\n      <td>95.903262</td>\n      <td>0.270131</td>\n      <td>80.760267</td>\n      <td>5.226994</td>\n    </tr>\n    <tr>\n      <th>1283</th>\n      <td>8.672530</td>\n      <td>inf</td>\n      <td>17.003250</td>\n      <td>inf</td>\n    </tr>\n  </tbody>\n</table>\n<p>268 rows × 4 columns</p>\n</div>"
     },
     "execution_count": 118,
     "metadata": {},
     "output_type": "execute_result"
    }
   ],
   "source": [
    "test_percentage_error\n",
    "#y_test"
   ],
   "metadata": {
    "collapsed": false
   }
  },
  {
   "cell_type": "code",
   "execution_count": 116,
   "outputs": [
    {
     "ename": "ValueError",
     "evalue": "supplied range of [0.013438749172027793, inf] is not finite",
     "output_type": "error",
     "traceback": [
      "\u001B[0;31m---------------------------------------------------------------------------\u001B[0m",
      "\u001B[0;31mValueError\u001B[0m                                Traceback (most recent call last)",
      "Input \u001B[0;32mIn [116]\u001B[0m, in \u001B[0;36m<cell line: 4>\u001B[0;34m()\u001B[0m\n\u001B[1;32m      1\u001B[0m \u001B[38;5;28;01mimport\u001B[39;00m \u001B[38;5;21;01mmatplotlib\u001B[39;00m\u001B[38;5;21;01m.\u001B[39;00m\u001B[38;5;21;01mpyplot\u001B[39;00m \u001B[38;5;28;01mas\u001B[39;00m \u001B[38;5;21;01mplt\u001B[39;00m\n\u001B[1;32m      3\u001B[0m \u001B[38;5;66;03m# 绘制分布直方图\u001B[39;00m\n\u001B[0;32m----> 4\u001B[0m \u001B[43mplt\u001B[49m\u001B[38;5;241;43m.\u001B[39;49m\u001B[43mhist\u001B[49m\u001B[43m(\u001B[49m\u001B[43mtest_percentage_error\u001B[49m\u001B[43m,\u001B[49m\u001B[43m \u001B[49m\u001B[43mbins\u001B[49m\u001B[38;5;241;43m=\u001B[39;49m\u001B[38;5;241;43m10\u001B[39;49m\u001B[43m,\u001B[49m\u001B[43m \u001B[49m\u001B[43medgecolor\u001B[49m\u001B[38;5;241;43m=\u001B[39;49m\u001B[38;5;124;43m'\u001B[39;49m\u001B[38;5;124;43mblack\u001B[39;49m\u001B[38;5;124;43m'\u001B[39;49m\u001B[43m)\u001B[49m\n\u001B[1;32m      5\u001B[0m plt\u001B[38;5;241m.\u001B[39mxlabel(\u001B[38;5;124m'\u001B[39m\u001B[38;5;124mPercentage Error (\u001B[39m\u001B[38;5;124m%\u001B[39m\u001B[38;5;124m)\u001B[39m\u001B[38;5;124m'\u001B[39m)\n\u001B[1;32m      6\u001B[0m plt\u001B[38;5;241m.\u001B[39mylabel(\u001B[38;5;124m'\u001B[39m\u001B[38;5;124mFrequency\u001B[39m\u001B[38;5;124m'\u001B[39m)\n",
      "File \u001B[0;32m/opt/homebrew/anaconda3/lib/python3.9/site-packages/matplotlib/pyplot.py:2602\u001B[0m, in \u001B[0;36mhist\u001B[0;34m(x, bins, range, density, weights, cumulative, bottom, histtype, align, orientation, rwidth, log, color, label, stacked, data, **kwargs)\u001B[0m\n\u001B[1;32m   2596\u001B[0m \u001B[38;5;129m@_copy_docstring_and_deprecators\u001B[39m(Axes\u001B[38;5;241m.\u001B[39mhist)\n\u001B[1;32m   2597\u001B[0m \u001B[38;5;28;01mdef\u001B[39;00m \u001B[38;5;21mhist\u001B[39m(\n\u001B[1;32m   2598\u001B[0m         x, bins\u001B[38;5;241m=\u001B[39m\u001B[38;5;28;01mNone\u001B[39;00m, \u001B[38;5;28mrange\u001B[39m\u001B[38;5;241m=\u001B[39m\u001B[38;5;28;01mNone\u001B[39;00m, density\u001B[38;5;241m=\u001B[39m\u001B[38;5;28;01mFalse\u001B[39;00m, weights\u001B[38;5;241m=\u001B[39m\u001B[38;5;28;01mNone\u001B[39;00m,\n\u001B[1;32m   2599\u001B[0m         cumulative\u001B[38;5;241m=\u001B[39m\u001B[38;5;28;01mFalse\u001B[39;00m, bottom\u001B[38;5;241m=\u001B[39m\u001B[38;5;28;01mNone\u001B[39;00m, histtype\u001B[38;5;241m=\u001B[39m\u001B[38;5;124m'\u001B[39m\u001B[38;5;124mbar\u001B[39m\u001B[38;5;124m'\u001B[39m, align\u001B[38;5;241m=\u001B[39m\u001B[38;5;124m'\u001B[39m\u001B[38;5;124mmid\u001B[39m\u001B[38;5;124m'\u001B[39m,\n\u001B[1;32m   2600\u001B[0m         orientation\u001B[38;5;241m=\u001B[39m\u001B[38;5;124m'\u001B[39m\u001B[38;5;124mvertical\u001B[39m\u001B[38;5;124m'\u001B[39m, rwidth\u001B[38;5;241m=\u001B[39m\u001B[38;5;28;01mNone\u001B[39;00m, log\u001B[38;5;241m=\u001B[39m\u001B[38;5;28;01mFalse\u001B[39;00m, color\u001B[38;5;241m=\u001B[39m\u001B[38;5;28;01mNone\u001B[39;00m,\n\u001B[1;32m   2601\u001B[0m         label\u001B[38;5;241m=\u001B[39m\u001B[38;5;28;01mNone\u001B[39;00m, stacked\u001B[38;5;241m=\u001B[39m\u001B[38;5;28;01mFalse\u001B[39;00m, \u001B[38;5;241m*\u001B[39m, data\u001B[38;5;241m=\u001B[39m\u001B[38;5;28;01mNone\u001B[39;00m, \u001B[38;5;241m*\u001B[39m\u001B[38;5;241m*\u001B[39mkwargs):\n\u001B[0;32m-> 2602\u001B[0m     \u001B[38;5;28;01mreturn\u001B[39;00m \u001B[43mgca\u001B[49m\u001B[43m(\u001B[49m\u001B[43m)\u001B[49m\u001B[38;5;241;43m.\u001B[39;49m\u001B[43mhist\u001B[49m\u001B[43m(\u001B[49m\n\u001B[1;32m   2603\u001B[0m \u001B[43m        \u001B[49m\u001B[43mx\u001B[49m\u001B[43m,\u001B[49m\u001B[43m \u001B[49m\u001B[43mbins\u001B[49m\u001B[38;5;241;43m=\u001B[39;49m\u001B[43mbins\u001B[49m\u001B[43m,\u001B[49m\u001B[43m \u001B[49m\u001B[38;5;28;43mrange\u001B[39;49m\u001B[38;5;241;43m=\u001B[39;49m\u001B[38;5;28;43mrange\u001B[39;49m\u001B[43m,\u001B[49m\u001B[43m \u001B[49m\u001B[43mdensity\u001B[49m\u001B[38;5;241;43m=\u001B[39;49m\u001B[43mdensity\u001B[49m\u001B[43m,\u001B[49m\u001B[43m \u001B[49m\u001B[43mweights\u001B[49m\u001B[38;5;241;43m=\u001B[39;49m\u001B[43mweights\u001B[49m\u001B[43m,\u001B[49m\n\u001B[1;32m   2604\u001B[0m \u001B[43m        \u001B[49m\u001B[43mcumulative\u001B[49m\u001B[38;5;241;43m=\u001B[39;49m\u001B[43mcumulative\u001B[49m\u001B[43m,\u001B[49m\u001B[43m \u001B[49m\u001B[43mbottom\u001B[49m\u001B[38;5;241;43m=\u001B[39;49m\u001B[43mbottom\u001B[49m\u001B[43m,\u001B[49m\u001B[43m \u001B[49m\u001B[43mhisttype\u001B[49m\u001B[38;5;241;43m=\u001B[39;49m\u001B[43mhisttype\u001B[49m\u001B[43m,\u001B[49m\n\u001B[1;32m   2605\u001B[0m \u001B[43m        \u001B[49m\u001B[43malign\u001B[49m\u001B[38;5;241;43m=\u001B[39;49m\u001B[43malign\u001B[49m\u001B[43m,\u001B[49m\u001B[43m \u001B[49m\u001B[43morientation\u001B[49m\u001B[38;5;241;43m=\u001B[39;49m\u001B[43morientation\u001B[49m\u001B[43m,\u001B[49m\u001B[43m \u001B[49m\u001B[43mrwidth\u001B[49m\u001B[38;5;241;43m=\u001B[39;49m\u001B[43mrwidth\u001B[49m\u001B[43m,\u001B[49m\u001B[43m \u001B[49m\u001B[43mlog\u001B[49m\u001B[38;5;241;43m=\u001B[39;49m\u001B[43mlog\u001B[49m\u001B[43m,\u001B[49m\n\u001B[1;32m   2606\u001B[0m \u001B[43m        \u001B[49m\u001B[43mcolor\u001B[49m\u001B[38;5;241;43m=\u001B[39;49m\u001B[43mcolor\u001B[49m\u001B[43m,\u001B[49m\u001B[43m \u001B[49m\u001B[43mlabel\u001B[49m\u001B[38;5;241;43m=\u001B[39;49m\u001B[43mlabel\u001B[49m\u001B[43m,\u001B[49m\u001B[43m \u001B[49m\u001B[43mstacked\u001B[49m\u001B[38;5;241;43m=\u001B[39;49m\u001B[43mstacked\u001B[49m\u001B[43m,\u001B[49m\n\u001B[1;32m   2607\u001B[0m \u001B[43m        \u001B[49m\u001B[38;5;241;43m*\u001B[39;49m\u001B[38;5;241;43m*\u001B[39;49m\u001B[43m(\u001B[49m\u001B[43m{\u001B[49m\u001B[38;5;124;43m\"\u001B[39;49m\u001B[38;5;124;43mdata\u001B[39;49m\u001B[38;5;124;43m\"\u001B[39;49m\u001B[43m:\u001B[49m\u001B[43m \u001B[49m\u001B[43mdata\u001B[49m\u001B[43m}\u001B[49m\u001B[43m \u001B[49m\u001B[38;5;28;43;01mif\u001B[39;49;00m\u001B[43m \u001B[49m\u001B[43mdata\u001B[49m\u001B[43m \u001B[49m\u001B[38;5;129;43;01mis\u001B[39;49;00m\u001B[43m \u001B[49m\u001B[38;5;129;43;01mnot\u001B[39;49;00m\u001B[43m \u001B[49m\u001B[38;5;28;43;01mNone\u001B[39;49;00m\u001B[43m \u001B[49m\u001B[38;5;28;43;01melse\u001B[39;49;00m\u001B[43m \u001B[49m\u001B[43m{\u001B[49m\u001B[43m}\u001B[49m\u001B[43m)\u001B[49m\u001B[43m,\u001B[49m\u001B[43m \u001B[49m\u001B[38;5;241;43m*\u001B[39;49m\u001B[38;5;241;43m*\u001B[39;49m\u001B[43mkwargs\u001B[49m\u001B[43m)\u001B[49m\n",
      "File \u001B[0;32m/opt/homebrew/anaconda3/lib/python3.9/site-packages/matplotlib/__init__.py:1412\u001B[0m, in \u001B[0;36m_preprocess_data.<locals>.inner\u001B[0;34m(ax, data, *args, **kwargs)\u001B[0m\n\u001B[1;32m   1409\u001B[0m \u001B[38;5;129m@functools\u001B[39m\u001B[38;5;241m.\u001B[39mwraps(func)\n\u001B[1;32m   1410\u001B[0m \u001B[38;5;28;01mdef\u001B[39;00m \u001B[38;5;21minner\u001B[39m(ax, \u001B[38;5;241m*\u001B[39margs, data\u001B[38;5;241m=\u001B[39m\u001B[38;5;28;01mNone\u001B[39;00m, \u001B[38;5;241m*\u001B[39m\u001B[38;5;241m*\u001B[39mkwargs):\n\u001B[1;32m   1411\u001B[0m     \u001B[38;5;28;01mif\u001B[39;00m data \u001B[38;5;129;01mis\u001B[39;00m \u001B[38;5;28;01mNone\u001B[39;00m:\n\u001B[0;32m-> 1412\u001B[0m         \u001B[38;5;28;01mreturn\u001B[39;00m \u001B[43mfunc\u001B[49m\u001B[43m(\u001B[49m\u001B[43max\u001B[49m\u001B[43m,\u001B[49m\u001B[43m \u001B[49m\u001B[38;5;241;43m*\u001B[39;49m\u001B[38;5;28;43mmap\u001B[39;49m\u001B[43m(\u001B[49m\u001B[43msanitize_sequence\u001B[49m\u001B[43m,\u001B[49m\u001B[43m \u001B[49m\u001B[43margs\u001B[49m\u001B[43m)\u001B[49m\u001B[43m,\u001B[49m\u001B[43m \u001B[49m\u001B[38;5;241;43m*\u001B[39;49m\u001B[38;5;241;43m*\u001B[39;49m\u001B[43mkwargs\u001B[49m\u001B[43m)\u001B[49m\n\u001B[1;32m   1414\u001B[0m     bound \u001B[38;5;241m=\u001B[39m new_sig\u001B[38;5;241m.\u001B[39mbind(ax, \u001B[38;5;241m*\u001B[39margs, \u001B[38;5;241m*\u001B[39m\u001B[38;5;241m*\u001B[39mkwargs)\n\u001B[1;32m   1415\u001B[0m     auto_label \u001B[38;5;241m=\u001B[39m (bound\u001B[38;5;241m.\u001B[39marguments\u001B[38;5;241m.\u001B[39mget(label_namer)\n\u001B[1;32m   1416\u001B[0m                   \u001B[38;5;129;01mor\u001B[39;00m bound\u001B[38;5;241m.\u001B[39mkwargs\u001B[38;5;241m.\u001B[39mget(label_namer))\n",
      "File \u001B[0;32m/opt/homebrew/anaconda3/lib/python3.9/site-packages/matplotlib/axes/_axes.py:6620\u001B[0m, in \u001B[0;36mAxes.hist\u001B[0;34m(self, x, bins, range, density, weights, cumulative, bottom, histtype, align, orientation, rwidth, log, color, label, stacked, **kwargs)\u001B[0m\n\u001B[1;32m   6618\u001B[0m     \u001B[38;5;28;01melse\u001B[39;00m:\n\u001B[1;32m   6619\u001B[0m         _w \u001B[38;5;241m=\u001B[39m \u001B[38;5;28;01mNone\u001B[39;00m\n\u001B[0;32m-> 6620\u001B[0m     bins \u001B[38;5;241m=\u001B[39m \u001B[43mnp\u001B[49m\u001B[38;5;241;43m.\u001B[39;49m\u001B[43mhistogram_bin_edges\u001B[49m\u001B[43m(\u001B[49m\n\u001B[1;32m   6621\u001B[0m \u001B[43m        \u001B[49m\u001B[43mnp\u001B[49m\u001B[38;5;241;43m.\u001B[39;49m\u001B[43mconcatenate\u001B[49m\u001B[43m(\u001B[49m\u001B[43mx\u001B[49m\u001B[43m)\u001B[49m\u001B[43m,\u001B[49m\u001B[43m \u001B[49m\u001B[43mbins\u001B[49m\u001B[43m,\u001B[49m\u001B[43m \u001B[49m\u001B[43mbin_range\u001B[49m\u001B[43m,\u001B[49m\u001B[43m \u001B[49m\u001B[43m_w\u001B[49m\u001B[43m)\u001B[49m\n\u001B[1;32m   6622\u001B[0m \u001B[38;5;28;01melse\u001B[39;00m:\n\u001B[1;32m   6623\u001B[0m     hist_kwargs[\u001B[38;5;124m'\u001B[39m\u001B[38;5;124mrange\u001B[39m\u001B[38;5;124m'\u001B[39m] \u001B[38;5;241m=\u001B[39m bin_range\n",
      "File \u001B[0;32m<__array_function__ internals>:5\u001B[0m, in \u001B[0;36mhistogram_bin_edges\u001B[0;34m(*args, **kwargs)\u001B[0m\n",
      "File \u001B[0;32m/opt/homebrew/anaconda3/lib/python3.9/site-packages/numpy/lib/histograms.py:669\u001B[0m, in \u001B[0;36mhistogram_bin_edges\u001B[0;34m(a, bins, range, weights)\u001B[0m\n\u001B[1;32m    472\u001B[0m \u001B[38;5;124mr\u001B[39m\u001B[38;5;124;03m\"\"\"\u001B[39;00m\n\u001B[1;32m    473\u001B[0m \u001B[38;5;124;03mFunction to calculate only the edges of the bins used by the `histogram`\u001B[39;00m\n\u001B[1;32m    474\u001B[0m \u001B[38;5;124;03mfunction.\u001B[39;00m\n\u001B[0;32m   (...)\u001B[0m\n\u001B[1;32m    666\u001B[0m \n\u001B[1;32m    667\u001B[0m \u001B[38;5;124;03m\"\"\"\u001B[39;00m\n\u001B[1;32m    668\u001B[0m a, weights \u001B[38;5;241m=\u001B[39m _ravel_and_check_weights(a, weights)\n\u001B[0;32m--> 669\u001B[0m bin_edges, _ \u001B[38;5;241m=\u001B[39m \u001B[43m_get_bin_edges\u001B[49m\u001B[43m(\u001B[49m\u001B[43ma\u001B[49m\u001B[43m,\u001B[49m\u001B[43m \u001B[49m\u001B[43mbins\u001B[49m\u001B[43m,\u001B[49m\u001B[43m \u001B[49m\u001B[38;5;28;43mrange\u001B[39;49m\u001B[43m,\u001B[49m\u001B[43m \u001B[49m\u001B[43mweights\u001B[49m\u001B[43m)\u001B[49m\n\u001B[1;32m    670\u001B[0m \u001B[38;5;28;01mreturn\u001B[39;00m bin_edges\n",
      "File \u001B[0;32m/opt/homebrew/anaconda3/lib/python3.9/site-packages/numpy/lib/histograms.py:426\u001B[0m, in \u001B[0;36m_get_bin_edges\u001B[0;34m(a, bins, range, weights)\u001B[0m\n\u001B[1;32m    423\u001B[0m     \u001B[38;5;28;01mif\u001B[39;00m n_equal_bins \u001B[38;5;241m<\u001B[39m \u001B[38;5;241m1\u001B[39m:\n\u001B[1;32m    424\u001B[0m         \u001B[38;5;28;01mraise\u001B[39;00m \u001B[38;5;167;01mValueError\u001B[39;00m(\u001B[38;5;124m'\u001B[39m\u001B[38;5;124m`bins` must be positive, when an integer\u001B[39m\u001B[38;5;124m'\u001B[39m)\n\u001B[0;32m--> 426\u001B[0m     first_edge, last_edge \u001B[38;5;241m=\u001B[39m \u001B[43m_get_outer_edges\u001B[49m\u001B[43m(\u001B[49m\u001B[43ma\u001B[49m\u001B[43m,\u001B[49m\u001B[43m \u001B[49m\u001B[38;5;28;43mrange\u001B[39;49m\u001B[43m)\u001B[49m\n\u001B[1;32m    428\u001B[0m \u001B[38;5;28;01melif\u001B[39;00m np\u001B[38;5;241m.\u001B[39mndim(bins) \u001B[38;5;241m==\u001B[39m \u001B[38;5;241m1\u001B[39m:\n\u001B[1;32m    429\u001B[0m     bin_edges \u001B[38;5;241m=\u001B[39m np\u001B[38;5;241m.\u001B[39masarray(bins)\n",
      "File \u001B[0;32m/opt/homebrew/anaconda3/lib/python3.9/site-packages/numpy/lib/histograms.py:315\u001B[0m, in \u001B[0;36m_get_outer_edges\u001B[0;34m(a, range)\u001B[0m\n\u001B[1;32m    312\u001B[0m         \u001B[38;5;28;01mraise\u001B[39;00m \u001B[38;5;167;01mValueError\u001B[39;00m(\n\u001B[1;32m    313\u001B[0m             \u001B[38;5;124m'\u001B[39m\u001B[38;5;124mmax must be larger than min in range parameter.\u001B[39m\u001B[38;5;124m'\u001B[39m)\n\u001B[1;32m    314\u001B[0m     \u001B[38;5;28;01mif\u001B[39;00m \u001B[38;5;129;01mnot\u001B[39;00m (np\u001B[38;5;241m.\u001B[39misfinite(first_edge) \u001B[38;5;129;01mand\u001B[39;00m np\u001B[38;5;241m.\u001B[39misfinite(last_edge)):\n\u001B[0;32m--> 315\u001B[0m         \u001B[38;5;28;01mraise\u001B[39;00m \u001B[38;5;167;01mValueError\u001B[39;00m(\n\u001B[1;32m    316\u001B[0m             \u001B[38;5;124m\"\u001B[39m\u001B[38;5;124msupplied range of [\u001B[39m\u001B[38;5;132;01m{}\u001B[39;00m\u001B[38;5;124m, \u001B[39m\u001B[38;5;132;01m{}\u001B[39;00m\u001B[38;5;124m] is not finite\u001B[39m\u001B[38;5;124m\"\u001B[39m\u001B[38;5;241m.\u001B[39mformat(first_edge, last_edge))\n\u001B[1;32m    317\u001B[0m \u001B[38;5;28;01melif\u001B[39;00m a\u001B[38;5;241m.\u001B[39msize \u001B[38;5;241m==\u001B[39m \u001B[38;5;241m0\u001B[39m:\n\u001B[1;32m    318\u001B[0m     \u001B[38;5;66;03m# handle empty arrays. Can't determine range, so use 0-1.\u001B[39;00m\n\u001B[1;32m    319\u001B[0m     first_edge, last_edge \u001B[38;5;241m=\u001B[39m \u001B[38;5;241m0\u001B[39m, \u001B[38;5;241m1\u001B[39m\n",
      "\u001B[0;31mValueError\u001B[0m: supplied range of [0.013438749172027793, inf] is not finite"
     ]
    },
    {
     "data": {
      "text/plain": "<Figure size 640x480 with 1 Axes>",
      "image/png": "[encoded data removed]"
     },
     "metadata": {},
     "output_type": "display_data"
    }
   ],
   "source": [
    "import matplotlib.pyplot as plt\n",
    "\n",
    "# 绘制分布直方图\n",
    "plt.hist(test_percentage_error, bins=10, edgecolor='black')\n",
    "plt.xlabel('Percentage Error (%)')\n",
    "plt.ylabel('Frequency')\n",
    "plt.title('Distribution of Test Percentage Error')\n",
    "plt.show()\n"
   ],
   "metadata": {
    "collapsed": false
   }
  }
 ],
 "metadata": {
  "kernelspec": {
   "display_name": "Python 3",
   "language": "python",
   "name": "python3"
  },
  "language_info": {
   "codemirror_mode": {
    "name": "ipython",
    "version": 2
   },
   "file_extension": ".py",
   "mimetype": "text/x-python",
   "name": "python",
   "nbconvert_exporter": "python",
   "pygments_lexer": "ipython2",
   "version": "2.7.6"
  }
 },
 "nbformat": 4,
 "nbformat_minor": 0
}
