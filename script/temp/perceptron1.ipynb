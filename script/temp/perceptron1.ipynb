{
 "cells": [
  {
   "cell_type": "code",
   "execution_count": 18,
   "metadata": {
    "collapsed": true
   },
   "outputs": [
    {
     "name": "stdout",
     "output_type": "stream",
     "text": [
      "The autoreload extension is already loaded. To reload it, use:\n",
      "  %reload_ext autoreload\n",
      "6627\n",
      "6566\n"
     ]
    }
   ],
   "source": [
    "import pdb\n",
    "\n",
    "import pandas as pd\n",
    "from sklearn.model_selection import train_test_split\n",
    "from sklearn.linear_model import LinearRegression  # 假设使用线性回归作为预测模型\n",
    "%load_ext autoreload\n",
    "%autoreload 2\n",
    "from script.temp.tools.data_utils import data_utils\n",
    "data = data_utils('config.xlsx','result.xlsx')\n",
    "data.preprocess()\n",
    "print(len(data.df_result))\n",
    "data.df_result = data.drop(['IOPS_Read', 'IOPS_Write', 'Bandwidth_Read', 'Bandwidth_Write'],0)\n",
    "print(len(data.df_result))\n",
    "data.targetLst = ['IOPS_Read']\n",
    "X,y = data.dorp_and_encode()\n",
    "X = X.drop(columns=['IOPS_Write', 'Bandwidth_Read', 'Bandwidth_Write'])"
   ]
  },
  {
   "cell_type": "code",
   "execution_count": 3,
   "outputs": [
    {
     "data": {
      "text/plain": "array([[3.54152e+04],\n       [8.97000e+01],\n       [4.98500e+02],\n       ...,\n       [6.34430e+03],\n       [8.88907e+04],\n       [9.62543e+04]])"
     },
     "execution_count": 3,
     "metadata": {},
     "output_type": "execute_result"
    }
   ],
   "source": [
    "from script.temp.tools.GA import features_MI\n",
    "import torch\n",
    "import torch.nn as nn\n",
    "import torch.optim as optim\n",
    "from torch.utils.data import DataLoader, TensorDataset\n",
    "import pandas as pd\n",
    "from sklearn.model_selection import train_test_split\n",
    "from sklearn.preprocessing import MinMaxScaler\n",
    "# 示例数据\n",
    "X,y = data.dorp_and_encode()\n",
    "scaler = MinMaxScaler()\n",
    "X = X.values.astype(float)\n",
    "y = y.values.astype(float)\n",
    "X_scaled = scaler.fit_transform(X)\n",
    "#y_scaled = y.reshape(-1, 1)/10000\n",
    "y_scaled = scaler.fit_transform(y)\n",
    "y_scaled = y_scaled.squeeze()\n",
    "# 划分数据集\n",
    "X_train, X_test, y_train, y_test = train_test_split(X_scaled, y_scaled, test_size=0.2, random_state=42)\n",
    "selected_features = features_MI(X_train,y_train)\n",
    "y"
   ],
   "metadata": {
    "collapsed": false
   }
  },
  {
   "cell_type": "code",
   "execution_count": 61,
   "outputs": [
    {
     "name": "stdout",
     "output_type": "stream",
     "text": [
      "测试集均方误差 (MSE): 0.0006\n",
      "测试集百分比误差 (Mean Percentage Error): inf%\n",
      "测试集R2值: 0.7554\n",
      "测试集平均绝对误差 (MAE): 0.0036\n"
     ]
    },
    {
     "name": "stderr",
     "output_type": "stream",
     "text": [
      "/var/folders/rd/h7txkcl151v0t98vbxrrxz8m0000gn/T/ipykernel_62522/2344572586.py:26: RuntimeWarning: divide by zero encountered in true_divide\n",
      "  test_error = np.mean(np.abs(y_test - y_pred) / y_test) * 100\n",
      "/Users/ezra/worksapce/MQSim/script/temp/tools/model.py:6: RuntimeWarning: divide by zero encountered in true_divide\n",
      "  percentage_error = np.abs((y_true - y_pred) / y_true) * 100\n"
     ]
    },
    {
     "data": {
      "text/plain": "        y_pred    y_test\n0     0.003572  0.003537\n1     0.001630  0.001196\n2     0.028961  0.024904\n3     0.000636  0.000637\n4     0.000837  0.000846\n...        ...       ...\n1309  0.001707  0.001722\n1310  0.227734  0.310794\n1311  0.000809  0.000804\n1312  0.005944  0.005311\n1313  0.000993  0.000931\n\n[1314 rows x 2 columns]",
      "text/html": "<div>\n<style scoped>\n    .dataframe tbody tr th:only-of-type {\n        vertical-align: middle;\n    }\n\n    .dataframe tbody tr th {\n        vertical-align: top;\n    }\n\n    .dataframe thead th {\n        text-align: right;\n    }\n</style>\n<table border=\"1\" class=\"dataframe\">\n  <thead>\n    <tr style=\"text-align: right;\">\n      <th></th>\n      <th>y_pred</th>\n      <th>y_test</th>\n    </tr>\n  </thead>\n  <tbody>\n    <tr>\n      <th>0</th>\n      <td>0.003572</td>\n      <td>0.003537</td>\n    </tr>\n    <tr>\n      <th>1</th>\n      <td>0.001630</td>\n      <td>0.001196</td>\n    </tr>\n    <tr>\n      <th>2</th>\n      <td>0.028961</td>\n      <td>0.024904</td>\n    </tr>\n    <tr>\n      <th>3</th>\n      <td>0.000636</td>\n      <td>0.000637</td>\n    </tr>\n    <tr>\n      <th>4</th>\n      <td>0.000837</td>\n      <td>0.000846</td>\n    </tr>\n    <tr>\n      <th>...</th>\n      <td>...</td>\n      <td>...</td>\n    </tr>\n    <tr>\n      <th>1309</th>\n      <td>0.001707</td>\n      <td>0.001722</td>\n    </tr>\n    <tr>\n      <th>1310</th>\n      <td>0.227734</td>\n      <td>0.310794</td>\n    </tr>\n    <tr>\n      <th>1311</th>\n      <td>0.000809</td>\n      <td>0.000804</td>\n    </tr>\n    <tr>\n      <th>1312</th>\n      <td>0.005944</td>\n      <td>0.005311</td>\n    </tr>\n    <tr>\n      <th>1313</th>\n      <td>0.000993</td>\n      <td>0.000931</td>\n    </tr>\n  </tbody>\n</table>\n<p>1314 rows × 2 columns</p>\n</div>"
     },
     "execution_count": 61,
     "metadata": {},
     "output_type": "execute_result"
    }
   ],
   "source": [
    "from script.temp.tools.model import evaluate\n",
    "from sklearn.ensemble import RandomForestRegressor, ExtraTreesRegressor, GradientBoostingRegressor\n",
    "import numpy as np\n",
    "from sklearn.svm import SVR\n",
    "#from sklearn.ensemble import RandomForestRegressor, GradientBoostingRegressor, ExtraTreesClassifier, ExtraTreesRegressor\n",
    "from script.temp.tools.data_utils import ExtraRandomForest\n",
    "# 计算误差\n",
    "#X_train_selected X_test_selected y_train y_test\n",
    "# 根据选择的特征重新训练决策树模型\n",
    "#num = X.shape[0]\n",
    "num =2000\n",
    "X_train_selected = X_train[5000-num:-1, selected_features]\n",
    "y_train_selected = y_train[5000-num:-1]\n",
    "X_test_selected = X_test[:, selected_features]\n",
    "X_train_selected = X_train[5000-num:-1, :]\n",
    "y_train_selected = y_train[5000-num:-1]\n",
    "X_test_selected = X_test[:, :]\n",
    "model = ExtraTreesRegressor(n_estimators=100,max_features=None )\n",
    "model.fit(X_train_selected, y_train_selected)\n",
    "\n",
    "# 使用测试集进行预测\n",
    "y_pred = model.predict(X_test_selected)\n",
    "\n",
    "# 在此之后，你可以使用各种评估指标来评估模型的性能\n",
    "train_error = np.mean(np.abs(y_train_selected - model.predict(X_train_selected)) / y_train_selected) * 100\n",
    "test_error = np.mean(np.abs(y_test - y_pred) / y_test) * 100\n",
    "\n",
    "# 打印误差和选择的特征\n",
    "evaluate(y_pred,y_test,\"测试集\",True)\n",
    "df = pd.DataFrame({'y_pred': y_pred, 'y_test': y_test})\n",
    "df\n",
    "#print(\"选择的特征索引:\", selected_features)\n",
    "#X_train_selected"
   ],
   "metadata": {
    "collapsed": false
   }
  },
  {
   "cell_type": "code",
   "execution_count": 62,
   "outputs": [
    {
     "name": "stdout",
     "output_type": "stream",
     "text": [
      "均方误差 (MSE): 0.0006\n",
      "百分比误差 (Mean Percentage Error): inf%\n",
      "R2值: 0.7606\n",
      "平均绝对误差 (MAE): 0.0044\n"
     ]
    },
    {
     "name": "stderr",
     "output_type": "stream",
     "text": [
      "/Users/ezra/worksapce/MQSim/script/temp/tools/model.py:6: RuntimeWarning: divide by zero encountered in true_divide\n",
      "  percentage_error = np.abs((y_true - y_pred) / y_true) * 100\n"
     ]
    },
    {
     "data": {
      "text/plain": "(0.0005521766597912235, inf, 0.7605577174986402, 0.004431957066942856)"
     },
     "execution_count": 62,
     "metadata": {},
     "output_type": "execute_result"
    }
   ],
   "source": [
    "import xgboost as xgb\n",
    "from sklearn.metrics import mean_squared_error\n",
    "\n",
    "# 将数据转换为 DMatrix 格式\n",
    "dtrain = xgb.DMatrix(X_train_selected, label=y_train_selected)\n",
    "dtest = xgb.DMatrix(X_test_selected, label=y_test)\n",
    "\n",
    "# 定义参数\n",
    "params = {\n",
    "    'objective': 'reg:squarederror',  # 设置损失函数为均方误差\n",
    "    'eval_metric': 'rmse'  # 评估指标采用 RMSE\n",
    "}\n",
    "\n",
    "# 训练模型\n",
    "model = xgb.train(params, dtrain, num_boost_round=100)\n",
    "\n",
    "# 预测\n",
    "y_pred = model.predict(dtest)\n",
    "evaluate(y_pred=y_pred,y_true=y_test,p = True)"
   ],
   "metadata": {
    "collapsed": false
   }
  },
  {
   "cell_type": "code",
   "execution_count": 860,
   "outputs": [
    {
     "data": {
      "text/plain": "(3251, 103)"
     },
     "execution_count": 860,
     "metadata": {},
     "output_type": "execute_result"
    }
   ],
   "source": [
    "X_train_selected.shape"
   ],
   "metadata": {
    "collapsed": false
   }
  },
  {
   "cell_type": "code",
   "execution_count": 63,
   "outputs": [],
   "source": [
    "from script.temp.tools.data_utils import MLP, MPERegressionLoss\n",
    "from script.tools.collection import CustomDataset\n",
    "\n",
    "X_train_selected_tensor = torch.tensor(X_train_selected,dtype=torch.float32)\n",
    "X_test_selected_tensor = torch.tensor(X_test_selected,dtype=torch.float32)\n",
    "y_train_selected_tensor = torch.tensor(y_train_selected,dtype=torch.float32)\n",
    "y_test_tensor = torch.tensor(y_test,dtype=torch.float32)\n",
    "# 参数设置\n",
    "input_size = X_train_selected_tensor.shape[1]\n",
    "output_size = 1\n",
    "\n",
    "# 初始化模型\n",
    "model = MLP([input_size,40,20,20,10,5, output_size])\n",
    "\n",
    "# 定义损失函数\n",
    "criterion_MPE = MPERegressionLoss()\n",
    "criterion = nn.MSELoss()\n",
    "# 定义优化器\n",
    "\n",
    "#X_train_selected_tensor.shape,X_test_selected_tensor.shape,y_train_selected_tensor.shape,y_test_tensor.shape\n"
   ],
   "metadata": {
    "collapsed": false
   }
  },
  {
   "cell_type": "code",
   "execution_count": 68,
   "outputs": [
    {
     "name": "stdout",
     "output_type": "stream",
     "text": [
      "Epoch [1/100], Loss: 0.0030\n",
      "Epoch [2/100], Loss: 0.0004\n",
      "Epoch [3/100], Loss: 0.0034\n",
      "Epoch [4/100], Loss: 0.0007\n",
      "Epoch [5/100], Loss: 0.0004\n",
      "Epoch [6/100], Loss: 0.0007\n",
      "Epoch [7/100], Loss: 0.0009\n",
      "Epoch [8/100], Loss: 0.0005\n",
      "Epoch [9/100], Loss: 0.0007\n",
      "Epoch [10/100], Loss: 0.0011\n",
      "Epoch [11/100], Loss: 0.0004\n",
      "Epoch [12/100], Loss: 0.0032\n",
      "Epoch [13/100], Loss: 0.0006\n",
      "Epoch [14/100], Loss: 0.0004\n",
      "Epoch [15/100], Loss: 0.0006\n",
      "Epoch [16/100], Loss: 0.0005\n",
      "Epoch [17/100], Loss: 0.0006\n",
      "Epoch [18/100], Loss: 0.0012\n",
      "Epoch [19/100], Loss: 0.0021\n",
      "Epoch [20/100], Loss: 0.0007\n",
      "Epoch [21/100], Loss: 0.0004\n",
      "Epoch [22/100], Loss: 0.0004\n",
      "Epoch [23/100], Loss: 0.0011\n",
      "Epoch [24/100], Loss: 0.0087\n",
      "Epoch [25/100], Loss: 0.0017\n",
      "Epoch [26/100], Loss: 0.0006\n",
      "Epoch [27/100], Loss: 0.0007\n",
      "Epoch [28/100], Loss: 0.0011\n",
      "Epoch [29/100], Loss: 0.0003\n",
      "Epoch [30/100], Loss: 0.0012\n",
      "Epoch [31/100], Loss: 0.0006\n",
      "Epoch [32/100], Loss: 0.0006\n",
      "Epoch [33/100], Loss: 0.0017\n",
      "Epoch [34/100], Loss: 0.0003\n",
      "Epoch [35/100], Loss: 0.0006\n",
      "Epoch [36/100], Loss: 0.0006\n",
      "Epoch [37/100], Loss: 0.0012\n",
      "Epoch [38/100], Loss: 0.0020\n",
      "Epoch [39/100], Loss: 0.0003\n",
      "Epoch [40/100], Loss: 0.0014\n",
      "Epoch [41/100], Loss: 0.0005\n",
      "Epoch [42/100], Loss: 0.0004\n",
      "Epoch [43/100], Loss: 0.0005\n",
      "Epoch [44/100], Loss: 0.0017\n",
      "Epoch [45/100], Loss: 0.0033\n",
      "Epoch [46/100], Loss: 0.0014\n",
      "Epoch [47/100], Loss: 0.0007\n",
      "Epoch [48/100], Loss: 0.0006\n",
      "Epoch [49/100], Loss: 0.0007\n",
      "Epoch [50/100], Loss: 0.0010\n",
      "Epoch [51/100], Loss: 0.0005\n",
      "Epoch [52/100], Loss: 0.0017\n",
      "Epoch [53/100], Loss: 0.0006\n",
      "Epoch [54/100], Loss: 0.0028\n",
      "Epoch [55/100], Loss: 0.0004\n",
      "Epoch [56/100], Loss: 0.0005\n",
      "Epoch [57/100], Loss: 0.0023\n",
      "Epoch [58/100], Loss: 0.0005\n",
      "Epoch [59/100], Loss: 0.0005\n",
      "Epoch [60/100], Loss: 0.0089\n",
      "Epoch [61/100], Loss: 0.0007\n",
      "Epoch [62/100], Loss: 0.0012\n",
      "Epoch [63/100], Loss: 0.0014\n",
      "Epoch [64/100], Loss: 0.0006\n",
      "Epoch [65/100], Loss: 0.0012\n",
      "Epoch [66/100], Loss: 0.0007\n",
      "Epoch [67/100], Loss: 0.0008\n",
      "Epoch [68/100], Loss: 0.0005\n",
      "Epoch [69/100], Loss: 0.0014\n",
      "Epoch [70/100], Loss: 0.0008\n",
      "Epoch [71/100], Loss: 0.0005\n",
      "Epoch [72/100], Loss: 0.0016\n",
      "Epoch [73/100], Loss: 0.0097\n",
      "Epoch [74/100], Loss: 0.0009\n",
      "Epoch [75/100], Loss: 0.0016\n",
      "Epoch [76/100], Loss: 0.0006\n",
      "Epoch [77/100], Loss: 0.0023\n",
      "Epoch [78/100], Loss: 0.0005\n",
      "Epoch [79/100], Loss: 0.0094\n",
      "Epoch [80/100], Loss: 0.0019\n",
      "Epoch [81/100], Loss: 0.0004\n",
      "Epoch [82/100], Loss: 0.0010\n",
      "Epoch [83/100], Loss: 0.0006\n",
      "Epoch [84/100], Loss: 0.0034\n",
      "Epoch [85/100], Loss: 0.0005\n",
      "Epoch [86/100], Loss: 0.0011\n",
      "Epoch [87/100], Loss: 0.0007\n",
      "Epoch [88/100], Loss: 0.0023\n",
      "Epoch [89/100], Loss: 0.0012\n",
      "Epoch [90/100], Loss: 0.0008\n",
      "Epoch [91/100], Loss: 0.0015\n",
      "Epoch [92/100], Loss: 0.0005\n",
      "Epoch [93/100], Loss: 0.0004\n",
      "Epoch [94/100], Loss: 0.0005\n",
      "Epoch [95/100], Loss: 0.0003\n",
      "Epoch [96/100], Loss: 0.0085\n",
      "Epoch [97/100], Loss: 0.0011\n",
      "Epoch [98/100], Loss: 0.0006\n",
      "Epoch [99/100], Loss: 0.0014\n",
      "Epoch [100/100], Loss: 0.0007\n"
     ]
    }
   ],
   "source": [
    "train_dataset = TensorDataset(X_train_selected_tensor, y_train_selected_tensor)\n",
    "batch_size = 100\n",
    "num_epoch = 100\n",
    "train_loader = DataLoader(train_dataset, batch_size=batch_size, shuffle=True)\n",
    "\n",
    "\n",
    "optimizer = torch.optim.SGD(model.parameters(), lr=1e-5)\n",
    "for epoch  in range(num_epoch):\n",
    "    for batch_x,batch_y in  train_loader:\n",
    "        output = model(batch_x)\n",
    "        loss = criterion(output.squeeze(),batch_y.squeeze())\n",
    "        # 反向传播和优化\n",
    "        optimizer.zero_grad()\n",
    "        loss.backward()\n",
    "        optimizer.step()\n",
    "    print(f'Epoch [{epoch+1}/{num_epoch}], Loss: {loss.item():.4f}')\n",
    "y_pred = model(X_test_selected_tensor)"
   ],
   "metadata": {
    "collapsed": false
   }
  },
  {
   "cell_type": "code",
   "execution_count": 69,
   "outputs": [
    {
     "name": "stdout",
     "output_type": "stream",
     "text": [
      " 均方误差 (MSE): 0.0022\n",
      " 百分比误差 (Mean Percentage Error): inf%\n",
      " R2值: 0.0639\n",
      " 平均绝对误差 (MAE): 0.0204\n"
     ]
    },
    {
     "name": "stderr",
     "output_type": "stream",
     "text": [
      "/Users/ezra/worksapce/MQSim/script/temp/tools/model.py:6: RuntimeWarning: divide by zero encountered in true_divide\n",
      "  percentage_error = np.abs((y_true - y_pred) / y_true) * 100\n"
     ]
    },
    {
     "data": {
      "text/plain": "(0.002158686, inf, 0.06392146492178485, 0.020446964)"
     },
     "execution_count": 69,
     "metadata": {},
     "output_type": "execute_result"
    }
   ],
   "source": [
    "evaluate(y_true=y_test_tensor.detach().numpy(),y_pred=y_pred.detach().numpy(),str=\" \",p=True)"
   ],
   "metadata": {
    "collapsed": false
   }
  },
  {
   "cell_type": "code",
   "execution_count": 42,
   "outputs": [
    {
     "data": {
      "text/plain": "torch.Tensor"
     },
     "execution_count": 42,
     "metadata": {},
     "output_type": "execute_result"
    }
   ],
   "source": [],
   "metadata": {
    "collapsed": false
   }
  },
  {
   "cell_type": "code",
   "execution_count": 454,
   "outputs": [
    {
     "name": "stdout",
     "output_type": "stream",
     "text": [
      "Train Loss: 0.4611\n"
     ]
    }
   ],
   "source": [
    "with torch.no_grad():\n",
    "    #y_pred = model(X_test_selected_tensor)\n",
    "    #test_loss = criterion_MPE(y_pred.squeeze(),y_test_tensor)\n",
    "    y_pred = model(X_train_selected_tensor)\n",
    "    test_loss = criterion_MPE(y_pred.squeeze(),y_train_tensor)\n",
    "    print(f'Train Loss: {test_loss.item():.4f}')"
   ],
   "metadata": {
    "collapsed": false
   }
  },
  {
   "cell_type": "code",
   "execution_count": 381,
   "outputs": [
    {
     "name": "stdout",
     "output_type": "stream",
     "text": [
      "Mean Percentage Error (MPE): 367.4104309082031\n"
     ]
    }
   ],
   "source": [
    "i = 56\n",
    "y_pred = model(X_test_selected_tensor)\n",
    "y_pred.detach()[i],y_test_tensor[i]\n",
    "\n",
    "percentage_errors = torch.abs((y_test_tensor - y_pred.detach().squeeze()) / y_test_tensor) * 100\n",
    "mean_percentage_error = torch.mean(percentage_errors).item()\n",
    "print(\"Mean Percentage Error (MPE):\", mean_percentage_error)\n",
    "#y_pred.squeeze().shape,y_train_tensor.shape"
   ],
   "metadata": {
    "collapsed": false
   }
  },
  {
   "cell_type": "code",
   "execution_count": 4,
   "outputs": [
    {
     "name": "stdout",
     "output_type": "stream",
     "text": [
      "Feature 3: 0.0\n",
      "Feature 5: 0.0\n",
      "Feature 8: 0.0\n",
      "Feature 9: 0.0\n",
      "Feature 10: 0.0\n",
      "Feature 12: 0.0\n",
      "Feature 13: 0.0\n",
      "Feature 17: 0.0\n",
      "Feature 18: 0.0\n",
      "Feature 21: 0.0\n",
      "Feature 22: 0.0\n",
      "Feature 23: 0.0\n",
      "Feature 24: 0.0\n",
      "Feature 27: 0.0\n",
      "Feature 29: 0.0\n",
      "Feature 32: 0.0\n",
      "Feature 33: 0.0\n",
      "Feature 34: 0.0\n",
      "Feature 37: 0.0\n",
      "Feature 43: 0.0\n",
      "Feature 49: 0.0\n",
      "Feature 61: 0.0\n",
      "Feature 62: 0.0\n",
      "Feature 68: 0.0\n",
      "Feature 71: 0.0\n",
      "Feature 72: 0.0\n",
      "Feature 73: 0.0\n",
      "Feature 74: 0.0\n",
      "Feature 75: 0.0\n",
      "Feature 76: 0.0\n",
      "Feature 79: 0.0\n",
      "Feature 81: 0.0\n",
      "Feature 82: 0.0\n",
      "Feature 87: 0.0\n",
      "Feature 95: 0.0\n",
      "Feature 96: 0.0\n",
      "Feature 97: 0.0\n",
      "Feature 99: 0.0\n",
      "Feature 100: 0.0\n"
     ]
    },
    {
     "data": {
      "text/plain": "array([ True,  True,  True, False,  True, False,  True,  True, False,\n       False, False,  True, False, False,  True,  True,  True, False,\n       False,  True,  True, False, False, False, False,  True,  True,\n       False,  True, False,  True,  True, False, False, False,  True,\n        True, False,  True,  True,  True,  True,  True, False,  True,\n        True,  True,  True,  True, False,  True,  True,  True,  True,\n        True,  True,  True,  True,  True,  True,  True, False, False,\n        True,  True,  True,  True,  True, False,  True,  True, False,\n       False, False, False, False, False,  True,  True, False,  True,\n       False, False,  True,  True,  True,  True, False,  True,  True,\n        True,  True,  True,  True,  True, False, False, False,  True,\n       False, False,  True,  True])"
     },
     "execution_count": 4,
     "metadata": {},
     "output_type": "execute_result"
    }
   ],
   "source": [
    "from sklearn.feature_selection import mutual_info_regression\n",
    "\n",
    "# 计算特征与目标变量之间的互信息\n",
    "mi_scores = mutual_info_regression(X_train, y_train)\n",
    "data.X.columns\n",
    "selected_features = np.ones(103).astype(bool)\n",
    "n = 0\n",
    "for i, score in enumerate(mi_scores):\n",
    "    if score==0:\n",
    "        #print(f\"Feature {i}: {score}\")\n",
    "        selected_features[i] = False\n",
    "        n = n + 1\n",
    "        continue\n",
    "selected_features"
   ],
   "metadata": {
    "collapsed": false
   }
  },
  {
   "cell_type": "code",
   "execution_count": 56,
   "outputs": [
    {
     "data": {
      "text/plain": "<Figure size 640x480 with 1 Axes>",
      "image/png": "[encoded data removed]"
     },
     "metadata": {},
     "output_type": "display_data"
    }
   ],
   "source": [
    "import matplotlib.pyplot as plt\n",
    "\n",
    "# 过滤值为0的元素\n",
    "filtered_mi_scores = [score for score in mi_scores if score != 0]\n",
    "\n",
    "# 绘制分布直方图\n",
    "counts, bins, _ = plt.hist(filtered_mi_scores, bins=20, edgecolor='black')\n",
    "plt.xlabel('Mutual Information Score')\n",
    "plt.ylabel('Frequency')\n",
    "plt.title('Distribution of Mutual Information Scores (Excluding 0)')\n",
    "\n",
    "# 标记频率\n",
    "for count, bin in zip(counts, bins):\n",
    "    plt.text(bin, count, \"   \"+str(int(count)), ha='center', va='bottom')\n",
    "plt.show()\n"
   ],
   "metadata": {
    "collapsed": false
   }
  },
  {
   "cell_type": "code",
   "execution_count": 359,
   "outputs": [
    {
     "data": {
      "text/plain": "     True Values  Predicted Values  Percentage Errors\n0        0.12423          0.159065          28.040958\n1        0.03319          0.094341         184.246353\n2        0.28289          3.419613        1108.813721\n3        0.08109          0.034114          57.930733\n4        7.24398          5.179161          28.503927\n..           ...               ...                ...\n261      0.02133          0.081731         283.175140\n262      0.51265          2.641482         415.260315\n263      0.09746          0.961221         886.272705\n264      4.20977          3.850405           8.536457\n265      0.12996          0.028078          78.394691\n\n[266 rows x 3 columns]",
      "text/html": "<div>\n<style scoped>\n    .dataframe tbody tr th:only-of-type {\n        vertical-align: middle;\n    }\n\n    .dataframe tbody tr th {\n        vertical-align: top;\n    }\n\n    .dataframe thead th {\n        text-align: right;\n    }\n</style>\n<table border=\"1\" class=\"dataframe\">\n  <thead>\n    <tr style=\"text-align: right;\">\n      <th></th>\n      <th>True Values</th>\n      <th>Predicted Values</th>\n      <th>Percentage Errors</th>\n    </tr>\n  </thead>\n  <tbody>\n    <tr>\n      <th>0</th>\n      <td>0.12423</td>\n      <td>0.159065</td>\n      <td>28.040958</td>\n    </tr>\n    <tr>\n      <th>1</th>\n      <td>0.03319</td>\n      <td>0.094341</td>\n      <td>184.246353</td>\n    </tr>\n    <tr>\n      <th>2</th>\n      <td>0.28289</td>\n      <td>3.419613</td>\n      <td>1108.813721</td>\n    </tr>\n    <tr>\n      <th>3</th>\n      <td>0.08109</td>\n      <td>0.034114</td>\n      <td>57.930733</td>\n    </tr>\n    <tr>\n      <th>4</th>\n      <td>7.24398</td>\n      <td>5.179161</td>\n      <td>28.503927</td>\n    </tr>\n    <tr>\n      <th>...</th>\n      <td>...</td>\n      <td>...</td>\n      <td>...</td>\n    </tr>\n    <tr>\n      <th>261</th>\n      <td>0.02133</td>\n      <td>0.081731</td>\n      <td>283.175140</td>\n    </tr>\n    <tr>\n      <th>262</th>\n      <td>0.51265</td>\n      <td>2.641482</td>\n      <td>415.260315</td>\n    </tr>\n    <tr>\n      <th>263</th>\n      <td>0.09746</td>\n      <td>0.961221</td>\n      <td>886.272705</td>\n    </tr>\n    <tr>\n      <th>264</th>\n      <td>4.20977</td>\n      <td>3.850405</td>\n      <td>8.536457</td>\n    </tr>\n    <tr>\n      <th>265</th>\n      <td>0.12996</td>\n      <td>0.028078</td>\n      <td>78.394691</td>\n    </tr>\n  </tbody>\n</table>\n<p>266 rows × 3 columns</p>\n</div>"
     },
     "execution_count": 359,
     "metadata": {},
     "output_type": "execute_result"
    }
   ],
   "source": [
    "y_test_np = y_test_tensor.numpy()\n",
    "y_pred_np = y_pred.squeeze().detach().numpy()\n",
    "percentage_errors_np = percentage_errors.squeeze().numpy()\n",
    "\n",
    "\n",
    "y_test_np.shape,y_pred_np.shape,percentage_errors_np.shape\n",
    "# 创建 DataFrame\n",
    "df = pd.DataFrame({\n",
    "    'True Values': y_test_np,\n",
    "    'Predicted Values': y_pred_np,\n",
    "    'Percentage Errors': percentage_errors_np\n",
    "})\n",
    "df"
   ],
   "metadata": {
    "collapsed": false
   }
  },
  {
   "cell_type": "code",
   "execution_count": 827,
   "outputs": [
    {
     "data": {
      "text/plain": "<Figure size 640x480 with 1 Axes>",
      "image/png": "[encoded data removed]"
     },
     "metadata": {},
     "output_type": "display_data"
    }
   ],
   "source": [
    "import numpy as np\n",
    "import matplotlib.pyplot as plt\n",
    "\n",
    "num_bins = 10\n",
    "hist, bins = np.histogram(y, bins=num_bins)\n",
    "\n",
    "# 绘制直方图\n",
    "plt.bar(bins[:-1], hist, width=np.diff(bins), edgecolor='black', alpha=0.7)\n",
    "plt.xlabel('Value')\n",
    "plt.ylabel('Frequency')\n",
    "plt.title('Histogram of y')\n",
    "plt.grid(True)\n",
    "plt.show()"
   ],
   "metadata": {
    "collapsed": false
   }
  },
  {
   "cell_type": "code",
   "execution_count": 830,
   "outputs": [
    {
     "data": {
      "text/plain": "<Figure size 640x480 with 1 Axes>",
      "image/png": "[encoded data removed]"
     },
     "metadata": {},
     "output_type": "display_data"
    }
   ],
   "source": [
    "import numpy as np\n",
    "import matplotlib.pyplot as plt\n",
    "\n",
    "# 生成随机数据，假设z是一维的numpy数组\n",
    "z = y\n",
    "\n",
    "# 将z分成10个区间\n",
    "num_bins = 10\n",
    "hist, bins = np.histogram(z, bins=num_bins)\n",
    "\n",
    "# 绘制直方图\n",
    "plt.bar(bins[:-1], hist, width=np.diff(bins), edgecolor='black', alpha=0.7)\n",
    "plt.xlabel('Value')\n",
    "plt.ylabel('Frequency')\n",
    "plt.title('Histogram of z')\n",
    "plt.grid(True)\n",
    "\n",
    "# 在每个条形的顶部添加文本标签\n",
    "for i in range(len(hist)):\n",
    "    plt.text(bins[i], hist[i], str(hist[i]), ha='center', va='bottom')\n",
    "\n",
    "plt.show()\n"
   ],
   "metadata": {
    "collapsed": false
   }
  },
  {
   "cell_type": "code",
   "execution_count": 10,
   "outputs": [
    {
     "name": "stdout",
     "output_type": "stream",
     "text": [
      "Decision Tree均方误差 (MSE): 0.0007\n",
      "Decision TreeR2值: 0.7060\n",
      "Decision Tree平均绝对误差 (MAE): 0.0056\n",
      "Random Forest均方误差 (MSE): 0.0006\n",
      "Random ForestR2值: 0.7383\n",
      "Random Forest平均绝对误差 (MAE): 0.0038\n",
      "Gradient Boosting均方误差 (MSE): 0.0004\n",
      "Gradient BoostingR2值: 0.8129\n",
      "Gradient Boosting平均绝对误差 (MAE): 0.0040\n",
      "SVM均方误差 (MSE): 0.0057\n",
      "SVMR2值: -1.4699\n",
      "SVM平均绝对误差 (MAE): 0.0687\n",
      "Logistic Regression均方误差 (MSE): 0.0016\n",
      "Logistic RegressionR2值: 0.3215\n",
      "Logistic Regression平均绝对误差 (MAE): 0.0176\n"
     ]
    }
   ],
   "source": [
    "from sklearn.tree import DecisionTreeRegressor\n",
    "from sklearn.ensemble import RandomForestRegressor, GradientBoostingRegressor\n",
    "from sklearn.svm import SVR\n",
    "from sklearn.linear_model import LinearRegression\n",
    "from sklearn.metrics import mean_squared_error, mean_absolute_error\n",
    "from script.temp.tools.model import evaluate\n",
    "errLst =[]\n",
    "num =2000\n",
    "X_train_selected = X_train[5000-num:-1, selected_features]\n",
    "y_train_selected = y_train[5000-num:-1]\n",
    "X_test_selected = X_test[:, selected_features]\n",
    "X_train_selected = X_train[5000-num:-1, :]\n",
    "y_train_selected = y_train[5000-num:-1]\n",
    "X_test_selected = X_test[:, :]\n",
    "# 实例化各个模型\n",
    "models = {\n",
    "    \"Decision Tree\": DecisionTreeRegressor(),\n",
    "    \"Random Forest\": RandomForestRegressor(),\n",
    "    \"Gradient Boosting\": GradientBoostingRegressor(),\n",
    "    \"SVM\": SVR(),\n",
    "    \"Logistic Regression\": LinearRegression()\n",
    "}\n",
    "for name, model in models.items():\n",
    "    model.fit(X_train_selected, y_train_selected)\n",
    "    y_pred = model.predict(X_test_selected)\n",
    "    mse,mean_percentage_error,r2,mae = evaluate(y_pred,y_test,name,True)\n",
    "    errLst.append((mse,mean_percentage_error,r2,mae))"
   ],
   "metadata": {
    "collapsed": false
   }
  },
  {
   "cell_type": "code",
   "execution_count": 11,
   "outputs": [
    {
     "data": {
      "text/plain": "<Figure size 1000x600 with 1 Axes>",
      "image/png": "[encoded data removed]"
     },
     "metadata": {},
     "output_type": "display_data"
    }
   ],
   "source": [
    "import matplotlib.pyplot as plt\n",
    "\n",
    "# 训练并评估模型\n",
    "mse_scores = []\n",
    "models = {\n",
    "    \"Decision Tree\": DecisionTreeRegressor(),\n",
    "    \"Random Forest\": RandomForestRegressor(),\n",
    "    \"Gradient Boosting\": GradientBoostingRegressor(),\n",
    "    \"SVM\": SVR(),\n",
    "    \"Logistic Regression\": LinearRegression()\n",
    "}\n",
    "\n",
    "for name, model in models.items():\n",
    "    model.fit(X_train_selected, y_train_selected)\n",
    "    y_pred = model.predict(X_test_selected)\n",
    "    mse = mean_squared_error(y_test, y_pred)\n",
    "    mse_scores.append(mse)\n",
    "\n",
    "# 绘制柱状图\n",
    "plt.figure(figsize=(10, 6))\n",
    "plt.bar(models.keys(), mse_scores, color='skyblue')\n",
    "plt.xlabel('Model')\n",
    "plt.ylabel('MSE')\n",
    "plt.title('Mean Squared Error of Regression Models')\n",
    "plt.xticks(rotation=45)\n",
    "plt.show()\n"
   ],
   "metadata": {
    "collapsed": false
   }
  },
  {
   "cell_type": "code",
   "execution_count": 20,
   "outputs": [],
   "source": [
    "from sklearn.metrics import r2_score\n",
    "from sklearn.ensemble import ExtraTreesRegressor\n",
    "from sklearn.neural_network import MLPRegressor\n",
    "import matplotlib.pyplot as plt\n",
    "\n",
    "import random\n",
    "\n",
    "# 选择不同数量的样本\n",
    "sample_sizes = [500, 1500, 2000]\n",
    "\n",
    "r2_scores = []\n",
    "models = {\n",
    "    \"Decision Tree\": DecisionTreeRegressor(),\n",
    "    \"Random Forest\": RandomForestRegressor(),\n",
    "    \"Gradient Boosting\": GradientBoostingRegressor(),\n",
    "    \"SVM\": SVR(),\n",
    "    \"Logistic Regression\": LinearRegression(),\n",
    "    \"Extra Trees\": ExtraTreesRegressor(),\n",
    "    \"MLP\": MLPRegressor()\n",
    "}\n",
    "for size in sample_sizes:\n",
    "    # 从训练集中随机选择样本\n",
    "    random_indices = random.sample(range(len(X_train_selected)), size)\n",
    "    X_train_sampled = X_train_selected[random_indices]\n",
    "    y_train_sampled = y_train_selected[random_indices]\n",
    "\n",
    "    r2_scores_for_size = []\n",
    "    for name, model in models.items():\n",
    "        model.fit(X_train_sampled, y_train_sampled)\n",
    "        y_pred = model.predict(X_test_selected)\n",
    "        r2 = r2_score(y_test, y_pred)\n",
    "        r2_scores_for_size.append(r2)\n",
    "    r2_scores.append(r2_scores_for_size)\n"
   ],
   "metadata": {
    "collapsed": false
   }
  },
  {
   "cell_type": "code",
   "execution_count": 26,
   "outputs": [
    {
     "data": {
      "text/plain": "<Figure size 1000x600 with 1 Axes>",
      "image/png": "[encoded data removed]"
     },
     "metadata": {},
     "output_type": "display_data"
    }
   ],
   "source": [
    "from sklearn.ensemble import ExtraTreesRegressor\n",
    "from sklearn.neural_network import MLPRegressor\n",
    "\n",
    "# 更新模型列表\n",
    "models = {\n",
    "    \"Decision Tree\": DecisionTreeRegressor(),\n",
    "    \"Random Forest\": RandomForestRegressor(),\n",
    "    \"Gradient Boosting\": GradientBoostingRegressor(),\n",
    "    \"SVM\": SVR(),\n",
    "    \"Logistic Regression\": LinearRegression(),\n",
    "    \"Extra Trees\": ExtraTreesRegressor(),\n",
    "    \"MLP\": MLPRegressor()\n",
    "}\n",
    "\n",
    "# 选择不同数量的样本\n",
    "sample_sizes = [500, 1500, 2000]\n",
    "\n",
    "r2_scores = []\n",
    "\n",
    "for size in sample_sizes:\n",
    "    # 从训练集中随机选择样本\n",
    "    random_indices = random.sample(range(len(X_train_selected)), size)\n",
    "    X_train_sampled = X_train_selected[random_indices]\n",
    "    y_train_sampled = y_train_selected[random_indices]\n",
    "\n",
    "    r2_scores_for_size = []\n",
    "    for name, model in models.items():\n",
    "        model.fit(X_train_sampled, y_train_sampled)\n",
    "        y_pred = model.predict(X_test_selected)\n",
    "        r2 = r2_score(y_test, y_pred)\n",
    "        r2_scores_for_size.append(r2)\n",
    "    r2_scores.append(r2_scores_for_size)\n",
    "\n",
    "# 绘制柱状图\n",
    "plt.figure(figsize=(10, 6))\n",
    "\n",
    "bar_width = 0.1\n",
    "index = range(len(sample_sizes))\n",
    "colors = ['skyblue', 'orange', 'green', 'red', 'purple', 'gray', 'brown']\n",
    "\n",
    "for i, model_name in enumerate(models.keys()):\n",
    "    plt.bar([x + i * bar_width for x in index], [r2[i] for r2 in r2_scores], bar_width, label=model_name, color=colors[i])\n",
    "\n",
    "plt.xlabel('Sample Size')\n",
    "plt.ylabel('R² Score')\n",
    "plt.title('R² Score')\n",
    "plt.xticks([x + 3 * bar_width for x in index], sample_sizes)\n",
    "plt.legend()\n",
    "plt.show()\n"
   ],
   "metadata": {
    "collapsed": false
   }
  }
 ],
 "metadata": {
  "kernelspec": {
   "display_name": "Python 3",
   "language": "python",
   "name": "python3"
  },
  "language_info": {
   "codemirror_mode": {
    "name": "ipython",
    "version": 2
   },
   "file_extension": ".py",
   "mimetype": "text/x-python",
   "name": "python",
   "nbconvert_exporter": "python",
   "pygments_lexer": "ipython2",
   "version": "2.7.6"
  }
 },
 "nbformat": 4,
 "nbformat_minor": 0
}
