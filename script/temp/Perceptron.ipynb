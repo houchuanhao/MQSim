{
 "cells": [
  {
   "cell_type": "code",
   "id": "initial_id",
   "metadata": {
    "collapsed": true,
    "ExecuteTime": {
     "end_time": "2024-04-06T13:30:38.910273Z",
     "start_time": "2024-04-06T13:30:35.698440Z"
    }
   },
   "source": [
    "import pdb\n",
    "\n",
    "import pandas as pd\n",
    "from sklearn.model_selection import train_test_split\n",
    "from sklearn.linear_model import LinearRegression  # 假设使用线性回归作为预测模型\n",
    "%load_ext autoreload\n",
    "%autoreload 2\n",
    "from script.temp.tools.data_utils import data_utils\n",
    "data = data_utils('config.xlsx','result.xlsx')"
   ],
   "outputs": [
    {
     "name": "stdout",
     "output_type": "stream",
     "text": [
      "The autoreload extension is already loaded. To reload it, use:\n",
      "  %reload_ext autoreload\n"
     ]
    }
   ],
   "execution_count": 5
  },
  {
   "metadata": {
    "ExecuteTime": {
     "end_time": "2024-04-06T13:30:40.917364Z",
     "start_time": "2024-04-06T13:30:40.853286Z"
    }
   },
   "cell_type": "code",
   "source": [
    "data.preprocess()\n",
    "print(len(data.df_result))\n",
    "data.df_result = data.drop(['IOPS_Read', 'IOPS_Write', 'Bandwidth_Read', 'Bandwidth_Write'],0)\n",
    "print(len(data.df_result))\n",
    "data.targetLst = ['IOPS_Read']\n",
    "X,y = data.dorp_and_encode()\n",
    "X = X.drop(columns=['IOPS_Write', 'Bandwidth_Read', 'Bandwidth_Write'])"
   ],
   "id": "3a5121b113a15d8a",
   "outputs": [
    {
     "name": "stdout",
     "output_type": "stream",
     "text": [
      "1336\n",
      "1326\n"
     ]
    }
   ],
   "execution_count": 6
  },
  {
   "metadata": {
    "ExecuteTime": {
     "end_time": "2024-04-06T14:53:29.291341Z",
     "start_time": "2024-04-06T14:53:29.238822Z"
    }
   },
   "cell_type": "code",
   "source": [
    "import torch\n",
    "import torch.nn as nn\n",
    "import torch.optim as optim\n",
    "from torch.utils.data import DataLoader, TensorDataset\n",
    "import pandas as pd\n",
    "from sklearn.model_selection import train_test_split\n",
    "from sklearn.preprocessing import MinMaxScaler\n",
    "# 准备数据\n",
    "# 假设X和y已经是DataFrame类型\n",
    "# 这里使用pandas的read_csv函数来示范，您可以替换成自己的数据加载方式\n",
    "# data = pd.read_csv('your_data.csv')\n",
    "# X = data.drop(columns=['target_column'])\n",
    "# y = data['target_column']\n",
    "\n",
    "# 示例数据\n",
    "X,y = data.dorp_and_encode()\n",
    "scaler = MinMaxScaler()\n",
    "X = X.values.astype(float)\n",
    "y = y.values.astype(float)\n",
    "X_scaled = scaler.fit_transform(X)\n",
    "y_scaled = y.reshape(-1, 1)/10000\n",
    "y_scaled = y_scaled.squeeze()\n",
    "# 划分数据集\n",
    "X_train, X_test, y_train, y_test = train_test_split(X_scaled, y_scaled, test_size=0.2, random_state=42)\n",
    "\n",
    "#X_train_tensor ,X_train_tensor ,X_test_tensor ,y_test_tensor\n",
    "# 转换为PyTorch张量\n",
    "X_train_tensor = torch.tensor(X_train, dtype=torch.float32)\n",
    "y_train_tensor = torch.tensor(y_train, dtype=torch.float32)\n",
    "X_test_tensor = torch.tensor(X_test, dtype=torch.float32)\n",
    "y_test_tensor = torch.tensor(y_test, dtype=torch.float32)"
   ],
   "id": "b1da8783adc6aebf",
   "outputs": [],
   "execution_count": 8
  },
  {
   "metadata": {
    "ExecuteTime": {
     "end_time": "2024-04-06T14:54:09.571328Z",
     "start_time": "2024-04-06T14:53:55.939525Z"
    }
   },
   "cell_type": "code",
   "source": [
    "from script.temp.tools.data_utils import MLP, MPERegressionLoss\n",
    "\n",
    "# 参数设置\n",
    "input_size = X.shape[1]\n",
    "output_size = 1\n",
    "\n",
    "# 初始化模型\n",
    "model = MLP([input_size, 60,30,20,15,10, output_size])\n",
    "\n",
    "# 定义损失函数\n",
    "criterion = MPERegressionLoss()\n",
    "#criterion = nn.MSELoss()\n",
    "# 定义优化器\n",
    "\n",
    "# 定义数据加载器\n",
    "train_dataset = TensorDataset(X_train_tensor, y_train_tensor)\n",
    "train_loader = DataLoader(train_dataset, batch_size=32, shuffle=True)\n"
   ],
   "id": "1a58181c2bda9ca8",
   "outputs": [],
   "execution_count": 10
  },
  {
   "cell_type": "code",
   "execution_count": null,
   "outputs": [],
   "source": [],
   "metadata": {
    "collapsed": false
   }
  },
  {
   "cell_type": "code",
   "execution_count": 64,
   "outputs": [
    {
     "name": "stdout",
     "output_type": "stream",
     "text": [
      "Epoch [100/1000], Loss: 0.9939\n",
      "Epoch [200/1000], Loss: 0.7331\n",
      "Epoch [300/1000], Loss: 0.6864\n",
      "Epoch [400/1000], Loss: 1.4742\n",
      "Epoch [500/1000], Loss: 2.1604\n",
      "Epoch [600/1000], Loss: 0.8910\n",
      "Epoch [700/1000], Loss: 1.0830\n",
      "Epoch [800/1000], Loss: 0.9842\n",
      "Epoch [900/1000], Loss: 0.7941\n",
      "Epoch [1000/1000], Loss: 0.7241\n",
      "Test Loss: 1.4874\n"
     ]
    }
   ],
   "source": [
    "\n",
    "# 训练模型\n",
    "optimizer = optim.SGD(model.parameters(), lr=0.001, weight_decay=0.001)  # weight_decay 参数即为正则化系数\n",
    "num_epochs = 1000\n",
    "for epoch in range(num_epochs):\n",
    "    for inputs, targets in train_loader:\n",
    "        optimizer.zero_grad()\n",
    "        outputs = model(inputs)\n",
    "        loss = criterion(outputs.squeeze(), targets)\n",
    "        loss.backward()\n",
    "        optimizer.step()\n",
    "    if (epoch+1) % 100 == 0:\n",
    "        print(f'Epoch [{epoch+1}/{num_epochs}], Loss: {loss.item():.4f}')\n",
    "\n",
    "# 评估模型\n",
    "model.eval()\n",
    "with torch.no_grad():\n",
    "    y_pred = model(X_test_tensor)\n",
    "    test_loss = criterion(y_pred.squeeze(), y_test_tensor)\n",
    "    print(f'Test Loss: {test_loss.item():.4f}')"
   ],
   "metadata": {
    "collapsed": false
   }
  },
  {
   "metadata": {
    "ExecuteTime": {
     "end_time": "2024-04-06T14:55:01.086583Z",
     "start_time": "2024-04-06T14:54:47.540097Z"
    }
   },
   "cell_type": "code",
   "source": [
    "y_test_flat = y_test_tensor.flatten()\n",
    "y_pred_flat = y_pred.flatten()\n",
    "# 计算百分比误差\n",
    "percentage_errors = ((y_pred_flat - y_test_flat) / y_test_flat) * 100\n",
    "\n",
    "# 创建 DataFrame\n",
    "df = pd.DataFrame({'y_test_tensor': y_test_flat, 'y_pred': y_pred_flat, 'percentage_error': percentage_errors})\n",
    "mean_percentage_error = percentage_errors.abs().mean()\n",
    "print(\"测试集:\",mean_percentage_error)\n",
    "y_test_flat = y_train_tensor.flatten()\n",
    "y_pred_flat = model(X_train_tensor).flatten()\n",
    "percentage_errors = ((y_pred_flat - y_test_flat) / y_test_flat) * 100\n",
    "mean_percentage_error = percentage_errors.abs().mean()\n",
    "print(\"训练集:\",mean_percentage_error)"
   ],
   "id": "ef9bb73897dcc8cf",
   "outputs": [
    {
     "name": "stdout",
     "output_type": "stream",
     "text": [
      "测试集: tensor(150.9725)\n",
      "训练集: tensor(152.7999, grad_fn=<MeanBackward0>)\n"
     ]
    }
   ],
   "execution_count": 61
  },
  {
   "metadata": {
    "ExecuteTime": {
     "end_time": "2024-04-06T14:48:30.009684Z",
     "start_time": "2024-04-06T14:48:29.969360Z"
    }
   },
   "cell_type": "code",
   "source": [
    "# 计算均方误差（MSE）\n",
    "mse_loss = nn.MSELoss()\n",
    "mse = mse_loss(y_pred.squeeze(), y_test_tensor)\n",
    "\n",
    "# 计算平均百分比误差（MPE）\n",
    "mpe = torch.mean(torch.abs((y_test_tensor - y_pred) / y_test_tensor)) * 100\n",
    "\n",
    "# 打印结果\n",
    "print(f'MSE: {mse.item():.4f}')\n",
    "print(f'MPE: {mpe.item():.4f}')"
   ],
   "id": "e7cd3cf6723a09b3",
   "outputs": [
    {
     "name": "stdout",
     "output_type": "stream",
     "text": [
      "MSE: 5.4452\n",
      "MPE: 3212.8315\n"
     ]
    }
   ],
   "execution_count": 36
  },
  {
   "cell_type": "code",
   "execution_count": 81,
   "outputs": [
    {
     "name": "stdout",
     "output_type": "stream",
     "text": [
      "训练集上的平均绝对误差: 0.0\n",
      "测试集上的平均绝对误差: 0.39446816818645974\n"
     ]
    }
   ],
   "source": [
    "from sklearn.tree import DecisionTreeRegressor\n",
    "from sklearn.metrics import mean_absolute_error\n",
    "\n",
    "# 实例化决策树回归模型\n",
    "tree_reg = DecisionTreeRegressor()\n",
    "\n",
    "# 在训练集上训练模型\n",
    "tree_reg.fit(X_train_tensor, y_train_tensor)\n",
    "\n",
    "# 在训练集和测试集上进行预测\n",
    "y_train_pred = tree_reg.predict(X_train_tensor)\n",
    "y_test_pred = tree_reg.predict(X_test_tensor)\n",
    "\n",
    "# 计算训练集和测试集上的平均绝对误差\n",
    "train_mae = mean_absolute_error(y_train_tensor, y_train_pred)\n",
    "test_mae = mean_absolute_error(y_test_tensor, y_test_pred)\n",
    "\n",
    "# 打印训练集和测试集上的平均绝对误差\n",
    "print(\"训练集上的平均绝对误差:\", train_mae)\n",
    "print(\"测试集上的平均绝对误差:\", test_mae)\n"
   ],
   "metadata": {
    "collapsed": false
   }
  },
  {
   "cell_type": "code",
   "execution_count": 82,
   "outputs": [
    {
     "name": "stdout",
     "output_type": "stream",
     "text": [
      "树的最大深度: None\n",
      "内部节点再划分所需的最小样本数: 2\n",
      "叶节点所需的最小样本数: 1\n",
      "寻找最佳划分时考虑的特征数量: None\n",
      "划分时使用的评价标准: squared_error\n"
     ]
    }
   ],
   "source": [
    "print(\"树的最大深度:\", tree_reg.max_depth)\n",
    "print(\"内部节点再划分所需的最小样本数:\", tree_reg.min_samples_split)\n",
    "print(\"叶节点所需的最小样本数:\", tree_reg.min_samples_leaf)\n",
    "print(\"寻找最佳划分时考虑的特征数量:\", tree_reg.max_features)\n",
    "print(\"划分时使用的评价标准:\", tree_reg.criterion)\n"
   ],
   "metadata": {
    "collapsed": false
   }
  },
  {
   "cell_type": "code",
   "execution_count": 89,
   "outputs": [
    {
     "name": "stdout",
     "output_type": "stream",
     "text": [
      "训练集均方误差: 0.0\n",
      "测试集均方误差: 599531901.634528\n",
      "训练集平均百分比误差: 3865.0711596859096\n",
      "测试集平均百分比误差: 3061.2581464458726\n"
     ]
    }
   ],
   "source": [
    "import numpy as np\n",
    "import matplotlib.pyplot as plt\n",
    "from sklearn.model_selection import train_test_split\n",
    "from sklearn.tree import DecisionTreeRegressor\n",
    "from sklearn.metrics import mean_squared_error, mean_absolute_error\n",
    "from sklearn.tree import plot_tree\n",
    "\n",
    "# 划分训练集和测试集\n",
    "X_train, X_test, y_train, y_test = train_test_split(X, y, test_size=0.2, random_state=42)\n",
    "\n",
    "# 实例化决策树回归模型\n",
    "tree_reg = DecisionTreeRegressor(random_state=42)\n",
    "\n",
    "# 在训练集上训练模型\n",
    "tree_reg.fit(X_train, y_train)\n",
    "\n",
    "# 在训练集和测试集上进行预测\n",
    "y_train_pred = tree_reg.predict(X_train)\n",
    "y_test_pred = tree_reg.predict(X_test)\n",
    "\n",
    "# 计算均方误差和平均百分比误差\n",
    "train_mse = mean_squared_error(y_train, y_train_pred)\n",
    "test_mse = mean_squared_error(y_test, y_test_pred)\n",
    "train_mape = np.mean(np.abs((y_train - y_train_pred) / y_train)) * 100\n",
    "test_mape = np.mean(np.abs((y_test - y_test_pred) / y_test)) * 100\n",
    "\n",
    "# 打印训练集和测试集的均方误差和平均百分比误差\n",
    "print(\"训练集均方误差:\", train_mse)\n",
    "print(\"测试集均方误差:\", test_mse)\n",
    "print(\"训练集平均百分比误差:\", train_mape)\n",
    "print(\"测试集平均百分比误差:\", test_mape)\n",
    "\n",
    "# 展示决策树模型\n",
    "#plt.figure(figsize=(20, 10))\n",
    "#plot_tree(tree_reg, filled=True, feature_names=X.columns)\n",
    "#plt.show()\n"
   ],
   "metadata": {
    "collapsed": false
   }
  },
  {
   "cell_type": "code",
   "execution_count": 94,
   "outputs": [
    {
     "ename": "IndexError",
     "evalue": "index 50 is out of bounds for axis 0 with size 50",
     "output_type": "error",
     "traceback": [
      "\u001B[0;31m---------------------------------------------------------------------------\u001B[0m",
      "\u001B[0;31mIndexError\u001B[0m                                Traceback (most recent call last)",
      "Input \u001B[0;32mIn [94]\u001B[0m, in \u001B[0;36m<cell line: 69>\u001B[0;34m()\u001B[0m\n\u001B[1;32m     66\u001B[0m X_train, X_test, y_train, y_test \u001B[38;5;241m=\u001B[39m train_test_split(X, y, test_size\u001B[38;5;241m=\u001B[39m\u001B[38;5;241m0.2\u001B[39m, random_state\u001B[38;5;241m=\u001B[39m\u001B[38;5;241m42\u001B[39m)\n\u001B[1;32m     68\u001B[0m \u001B[38;5;66;03m# 使用遗传算法进行特征选择\u001B[39;00m\n\u001B[0;32m---> 69\u001B[0m selected_features \u001B[38;5;241m=\u001B[39m \u001B[43mgenetic_algorithm\u001B[49m\u001B[43m(\u001B[49m\u001B[43m)\u001B[49m\n\u001B[1;32m     71\u001B[0m \u001B[38;5;28mprint\u001B[39m(\u001B[38;5;124m\"\u001B[39m\u001B[38;5;124m最佳特征组合:\u001B[39m\u001B[38;5;124m\"\u001B[39m, selected_features)\n",
      "Input \u001B[0;32mIn [94]\u001B[0m, in \u001B[0;36mgenetic_algorithm\u001B[0;34m(pop_size, generations, mutation_prob)\u001B[0m\n\u001B[1;32m     52\u001B[0m scores \u001B[38;5;241m=\u001B[39m np\u001B[38;5;241m.\u001B[39mzeros(pop_size)\n\u001B[1;32m     53\u001B[0m \u001B[38;5;28;01mfor\u001B[39;00m i \u001B[38;5;129;01min\u001B[39;00m \u001B[38;5;28mrange\u001B[39m(pop_size):\n\u001B[0;32m---> 54\u001B[0m     scores[i] \u001B[38;5;241m=\u001B[39m fitness(\u001B[43mpopulation\u001B[49m\u001B[43m[\u001B[49m\u001B[43mi\u001B[49m\u001B[43m]\u001B[49m)\n\u001B[1;32m     55\u001B[0m selected_population, selected_scores \u001B[38;5;241m=\u001B[39m selection(population, scores)\n\u001B[1;32m     56\u001B[0m population \u001B[38;5;241m=\u001B[39m crossover(selected_population)\n",
      "\u001B[0;31mIndexError\u001B[0m: index 50 is out of bounds for axis 0 with size 50"
     ]
    }
   ],
   "source": [
    "X_train_tensor ,X_train_tensor ,X_test_tensor ,y_test_tensor"
   ],
   "metadata": {
    "collapsed": false
   }
  },
  {
   "cell_type": "code",
   "execution_count": 99,
   "outputs": [
    {
     "name": "stdout",
     "output_type": "stream",
     "text": [
      "torch.Size([1060, 103]) torch.Size([1060, 103]) torch.Size([266, 103]) torch.Size([266])\n"
     ]
    }
   ],
   "source": [
    "print(X_train_tensor.shape,X_train_tensor.shape ,X_test_tensor.shape ,y_test_tensor.shape)"
   ],
   "metadata": {
    "collapsed": false
   }
  },
  {
   "cell_type": "code",
   "execution_count": 1,
   "outputs": [],
   "source": [
    "import numpy as np\n",
    "import pdb\n",
    "from sklearn.tree import DecisionTreeRegressor\n",
    "\n",
    "# 遗传算法参数\n",
    "population_size = 100\n",
    "num_generations = 100\n",
    "mutation_rate = 0.3\n",
    "tournament_size = 5\n",
    "\n",
    "# 定义适应度函数，这里我们使用决策树的准确率作为适应度\n",
    "def fitness_function(selected_features, X_train, y_train, X_test, y_test):\n",
    "    X_train_selected = X_train[:, selected_features]\n",
    "    X_test_selected = X_test[:, selected_features]\n",
    "\n",
    "    model = DecisionTreeRegressor()\n",
    "    model.fit(X_train_selected, y_train)\n",
    "    y_pred = model.predict(X_test_selected)\n",
    "    #accuracy = model.score(X_test_selected, y_test)\n",
    "    accuracy = np.mean(np.abs(y_test - y_pred) / y_test) * 100\n",
    "    return accuracy\n",
    "\n",
    "# 初始化种群\n",
    "def initialize_population(population_size, num_features):\n",
    "    return np.random.choice([0, 1], size=(population_size, num_features)).astype(bool)\n",
    "    #return np.ones((population_size,num_features)).astype(bool)\n",
    "\n",
    "# 选择操作（锦标赛选择）\n",
    "def tournament_selection(population, fitness_values, tournament_size):\n",
    "    tournament_indices = np.random.choice(len(population), size=tournament_size, replace=False)\n",
    "    tournament_fitness = fitness_values[tournament_indices]\n",
    "    winner_index = tournament_indices[np.argmax(tournament_fitness)]\n",
    "    return population[winner_index]\n",
    "\n",
    "# 交叉操作（单点交叉）\n",
    "def crossover(parent1, parent2):\n",
    "    crossover_point = np.random.randint(1, len(parent1))\n",
    "    child1 = np.concatenate((parent1[:crossover_point], parent2[crossover_point:]))\n",
    "    child2 = np.concatenate((parent2[:crossover_point], parent1[crossover_point:]))\n",
    "    #pdb.set_trace()\n",
    "    #print(\"c1,\",child1)\n",
    "    #print(\"p1:\",parent1)\n",
    "    return child1, child2\n",
    "\n",
    "# 变异操作\n",
    "def mutate(individual, mutation_rate):\n",
    "    for i in range(len(individual)):\n",
    "        if np.random.rand() < mutation_rate:\n",
    "            individual[i] = 1 - individual[i]  # 变异操作是翻转基因位\n",
    "            #print(\"invdividual\",individual)\n",
    "    return individual\n",
    "\n",
    "# 遗传算法主循环\n",
    "def genetic_algorithm(X_train, y_train, X_test, y_test):\n",
    "    num_features = X_train.shape[1]\n",
    "    population = initialize_population(population_size, num_features)\n",
    "    best_fitness = -np.inf\n",
    "    best_individual = None\n",
    "\n",
    "    for generation in range(num_generations):\n",
    "        fitness_values = np.array([fitness_function(individual, X_train, y_train, X_test, y_test) for individual in population])\n",
    "\n",
    "        # 更新最佳个体\n",
    "        generation_best_index = np.argmax(fitness_values)\n",
    "        if fitness_values[generation_best_index] > best_fitness:\n",
    "            best_fitness = fitness_values[generation_best_index]\n",
    "            best_individual = population[generation_best_index]\n",
    "\n",
    "        # 选择新种群\n",
    "        new_population = []\n",
    "        for _ in range(population_size // 2):\n",
    "            parent1 = tournament_selection(population, fitness_values, tournament_size)\n",
    "            parent2 = tournament_selection(population, fitness_values, tournament_size)\n",
    "            child1, child2 = crossover(parent1, parent2)\n",
    "            child1 = mutate(child1, mutation_rate)\n",
    "            child2 = mutate(child2, mutation_rate)\n",
    "            new_population.extend([child1, child2])\n",
    "\n",
    "        population = np.array(new_population)\n",
    "\n",
    "    return best_individual\n",
    "\n",
    "# 将 PyTorch 张量转换为 NumPy 数组\n",
    "X_train = X_train_tensor.numpy()\n",
    "y_train = y_train_tensor.numpy()\n",
    "X_test = X_test_tensor.numpy()\n",
    "y_test = y_test_tensor.numpy()\n",
    "\n",
    "# 运行遗传算法选择特征\n",
    "selected_features = genetic_algorithm(X_train, y_train, X_test, y_test)\n",
    "\n"
   ],
   "metadata": {
    "collapsed": false
   }
  },
  {
   "cell_type": "code",
   "execution_count": 228,
   "outputs": [
    {
     "name": "stdout",
     "output_type": "stream",
     "text": [
      "训练集百分比误差: 0.00%\n",
      "测试集百分比误差: 15500.72%\n",
      "选择的特征索引: [False False  True  True False False False  True  True False False  True\n",
      " False  True  True  True False  True False  True False  True  True False\n",
      " False False  True False  True False  True  True False  True  True False\n",
      " False  True  True  True  True False False False False  True  True False\n",
      " False False  True False False False False False  True  True  True  True\n",
      "  True False False  True False False  True  True  True  True False  True\n",
      "  True  True  True False  True False False False False False  True  True\n",
      " False  True  True False False  True False False  True  True False False\n",
      " False  True  True  True  True False False]\n"
     ]
    }
   ],
   "source": [
    "# 计算误差\n",
    "\n",
    "# 根据选择的特征重新训练决策树模型\n",
    "X_train_selected = X_train[:, selected_features]\n",
    "X_test_selected = X_test[:, selected_features]\n",
    "\n",
    "model = DecisionTreeRegressor()\n",
    "model.fit(X_train_selected, y_train)\n",
    "\n",
    "# 使用测试集进行预测\n",
    "y_pred = model.predict(X_test_selected)\n",
    "\n",
    "# 在此之后，你可以使用各种评估指标来评估模型的性能\n",
    "train_error = np.mean(np.abs(y_train - model.predict(X_train_selected)) / y_train) * 100\n",
    "test_error = np.mean(np.abs(y_test - y_pred) / y_test) * 100\n",
    "\n",
    "# 打印误差和选择的特征\n",
    "print(\"训练集百分比误差: {:.2f}%\".format(train_error))\n",
    "print(\"测试集百分比误差: {:.2f}%\".format(test_error))\n",
    "print(\"选择的特征索引:\", selected_features)\n"
   ],
   "metadata": {
    "collapsed": false
   }
  },
  {
   "cell_type": "code",
   "execution_count": 207,
   "outputs": [
    {
     "data": {
      "text/plain": "array([[0.5889676 , 0.42036074, 0.71428573, ..., 0.        , 1.        ,\n        0.        ],\n       [0.19993305, 0.24112625, 0.5714286 , ..., 0.        , 1.        ,\n        0.        ],\n       [0.3902107 , 0.8689414 , 0.42857143, ..., 1.        , 0.        ,\n        0.        ],\n       ...,\n       [0.10595768, 0.8421125 , 0.14285715, ..., 1.        , 0.        ,\n        0.        ],\n       [0.5512777 , 0.42654246, 0.2857143 , ..., 0.        , 0.        ,\n        1.        ],\n       [0.6556804 , 0.8759798 , 0.2857143 , ..., 1.        , 0.        ,\n        1.        ]], dtype=float32)"
     },
     "execution_count": 207,
     "metadata": {},
     "output_type": "execute_result"
    }
   ],
   "source": [
    "X_train_selected"
   ],
   "metadata": {
    "collapsed": false
   }
  },
  {
   "cell_type": "code",
   "execution_count": 109,
   "outputs": [
    {
     "name": "stdout",
     "output_type": "stream",
     "text": [
      "Index(['PCIe_Lane_Bandwidth', 'PCIe_Lane_Count', 'SATA_Processing_Delay',\n",
      "       'IO_Queue_Depth', 'Queue_Fetch_Size', 'Data_Cache_Capacity',\n",
      "       'Data_Cache_DRAM_Row_Size', 'Data_Cache_DRAM_Data_Rate',\n",
      "       'Data_Cache_DRAM_Data_Busrt_Size', 'Data_Cache_DRAM_tRCD',\n",
      "       ...\n",
      "       'Flash_Technology_SLC', 'Flash_Technology_TLC',\n",
      "       'CMD_Suspension_Support_ERASE', 'CMD_Suspension_Support_NONE',\n",
      "       'CMD_Suspension_Support_PROGRAM',\n",
      "       'CMD_Suspension_Support_PROGRAM_ERASE',\n",
      "       'Address_Distribution_RANDOM_UNIFORM', 'Address_Distribution_STREAMING',\n",
      "       'Request_Size_Distribution_FIXED', 'Request_Size_Distribution_NORMAL'],\n",
      "      dtype='object', length=103)\n",
      "103\n"
     ]
    }
   ],
   "source": [
    "X_ori,y_ori = data.dorp_and_encode()\n",
    "print(X_ori.columns)\n",
    "print(len(selected_features))"
   ],
   "metadata": {
    "collapsed": false
   }
  },
  {
   "cell_type": "code",
   "execution_count": 116,
   "outputs": [
    {
     "name": "stdout",
     "output_type": "stream",
     "text": [
      "(266, 103)\n"
     ]
    }
   ],
   "source": [
    "print(X_test_selected.shape)"
   ],
   "metadata": {
    "collapsed": false
   }
  },
  {
   "cell_type": "code",
   "execution_count": 217,
   "outputs": [
    {
     "name": "stdout",
     "output_type": "stream",
     "text": [
      "[ True False False False False False False False False False False False\n",
      " False False False False  True False  True  True False False False False\n",
      " False False False False False False False False False False False False\n",
      " False False False False False  True  True  True  True  True  True  True\n",
      "  True  True  True  True  True  True  True  True  True  True  True  True\n",
      "  True  True False False False False False  True  True  True  True  True\n",
      "  True  True  True  True  True  True  True  True  True  True  True  True\n",
      "  True  True  True  True  True  True  True  True  True  True  True  True\n",
      "  True  True  True  True  True  True  True]\n",
      "训练集百分比误差: 0.00%\n",
      "测试集百分比误差: 26.72%\n",
      "选择的特征索引: [ True False  True False  True False False False False False False  True\n",
      "  True  True False  True False  True False  True  True False  True False\n",
      "  True False  True False False  True  True  True False False False  True\n",
      " False False  True False  True  True  True  True  True  True  True False\n",
      "  True  True  True False False False False False  True False  True  True\n",
      " False False False False False  True  True False False False  True False\n",
      " False  True False  True  True  True False False False  True False False\n",
      " False False False False  True False False False  True False False False\n",
      " False  True  True False False False  True]\n"
     ]
    }
   ],
   "source": [
    "from sklearn.ensemble import RandomForestRegressor\n",
    "selected_features_m = np.ones(103).astype(bool)\n",
    "\n",
    "flst =[1,2,3,4,5,6,7,8,9,10,11,12,13,14,15,17,20,21,21,22,23,24,25,26,27,28,29,30,31,32,33,34,35,36,37,38,39,40,62,63,64,65,66]\n",
    "for i in flst:\n",
    "    selected_features_m[i] = False\n",
    "print(selected_features_m)\n",
    "selected_features_m\n",
    "#i = 8\n",
    "#selected_features_m[i] = 0\n",
    "X_train_selected = X_train[:, selected_features_m]\n",
    "X_test_selected = X_test[:, selected_features_m]\n",
    "\n",
    "\n",
    "#X_train_selected = X_train\n",
    "#X_test_selected = X_test\n",
    "#X_test_selected = X_test\n",
    "#model = RandomForestRegressor()\n",
    "model = DecisionTreeRegressor()\n",
    "model.fit(X_train_selected, y_train)\n",
    "\n",
    "# 使用测试集进行预测\n",
    "y_pred = model.predict(X_test_selected)\n",
    "# 计算误差\n",
    "train_error = np.mean(np.abs(y_train - model.predict(X_train_selected)) / y_train) * 100\n",
    "test_error = np.mean(np.abs(y_test - y_pred) / y_test) * 100\n",
    "\n",
    "# 打印误差和选择的特征\n",
    "print(\"训练集百分比误差: {:.2f}%\".format(train_error))\n",
    "print(\"测试集百分比误差: {:.2f}%\".format(test_error))\n",
    "print(\"选择的特征索引:\", selected_features)\n"
   ],
   "metadata": {
    "collapsed": false
   }
  },
  {
   "cell_type": "code",
   "execution_count": 126,
   "outputs": [
    {
     "name": "stdout",
     "output_type": "stream",
     "text": [
      "[[0 1 1 1 1]\n",
      " [1 1 0 0 0]\n",
      " [0 0 0 0 1]] \n",
      " [[1. 1. 1. 1. 1.]\n",
      " [1. 1. 1. 1. 1.]\n",
      " [1. 1. 1. 1. 1.]]\n"
     ]
    }
   ],
   "source": [
    "def initialize_population(population_size, num_features):\n",
    "    return np.random.choice([0, 1], size=(population_size, num_features))\n",
    "z = initialize_population(3,5)\n",
    "k = np.ones((3,5))\n",
    "print(z,\"\\n\",k)"
   ],
   "metadata": {
    "collapsed": false
   }
  },
  {
   "cell_type": "code",
   "execution_count": 176,
   "outputs": [
    {
     "data": {
      "text/plain": "array([[0.15789473, 0.23004067, 0.41458333, ..., 0.        , 0.        ,\n        1.        ],\n       [0.36842105, 0.86501396, 0.95208335, ..., 0.        , 0.        ,\n        1.        ],\n       [0.7368421 , 0.7748926 , 0.32291666, ..., 0.        , 0.        ,\n        0.        ],\n       ...,\n       [0.05263158, 0.5017592 , 0.94375   , ..., 0.        , 0.        ,\n        0.        ],\n       [0.7368421 , 0.13394076, 0.3625    , ..., 1.        , 0.        ,\n        0.        ],\n       [0.42105263, 0.20556554, 0.45      , ..., 0.        , 0.        ,\n        0.        ]], dtype=float32)"
     },
     "execution_count": 176,
     "metadata": {},
     "output_type": "execute_result"
    }
   ],
   "source": [
    "select = np.zeros(103).astype(bool)\n",
    "select[0] = 1\n",
    "X_train[:,select]\n",
    "X_train_selected\n",
    "#X_train_selected.shape"
   ],
   "metadata": {
    "collapsed": false
   }
  },
  {
   "cell_type": "code",
   "execution_count": 169,
   "outputs": [
    {
     "data": {
      "text/plain": "array([[0.5889676 , 0.15789473, 0.42036074, ..., 1.        , 1.        ,\n        0.        ],\n       [0.19993305, 0.36842105, 0.24112625, ..., 0.        , 1.        ,\n        0.        ],\n       [0.3902107 , 0.7368421 , 0.8689414 , ..., 0.        , 1.        ,\n        0.        ],\n       ...,\n       [0.10595768, 0.05263158, 0.8421125 , ..., 1.        , 1.        ,\n        0.        ],\n       [0.5512777 , 0.7368421 , 0.42654246, ..., 0.        , 0.        ,\n        1.        ],\n       [0.6556804 , 0.42105263, 0.8759798 , ..., 0.        , 0.        ,\n        1.        ]], dtype=float32)"
     },
     "execution_count": 169,
     "metadata": {},
     "output_type": "execute_result"
    }
   ],
   "source": [
    "X_train\n",
    "#X_train.shape"
   ],
   "metadata": {
    "collapsed": false
   }
  }
 ],
 "metadata": {
  "kernelspec": {
   "display_name": "Python 3",
   "language": "python",
   "name": "python3"
  },
  "language_info": {
   "codemirror_mode": {
    "name": "ipython",
    "version": 2
   },
   "file_extension": ".py",
   "mimetype": "text/x-python",
   "name": "python",
   "nbconvert_exporter": "python",
   "pygments_lexer": "ipython2",
   "version": "2.7.6"
  }
 },
 "nbformat": 4,
 "nbformat_minor": 5
}
