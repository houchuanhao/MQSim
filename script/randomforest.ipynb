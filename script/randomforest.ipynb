{
 "cells": [
  {
   "cell_type": "code",
   "execution_count": 1,
   "metadata": {
    "collapsed": true
   },
   "outputs": [
    {
     "name": "stdout",
     "output_type": "stream",
     "text": [
      "/opt/homebrew/anaconda3/bin/python\n",
      "no scenario collection/workspace_ssd0_workload0/1854/workload_scenario_1.xml\n",
      "no scenario collection/workspace_ssd0_workload0/425/workload_scenario_1.xml\n",
      "no scenario collection/workspace_ssd0_workload0/866/workload_scenario_1.xml\n",
      "no scenario collection/workspace_ssd0_workload0/1994/workload_scenario_1.xml\n",
      "no scenario collection/workspace_ssd0_workload0/1702/workload_scenario_1.xml\n",
      "no scenario collection/workspace_ssd0_workload0/428/workload_scenario_1.xml\n",
      "no scenario collection/workspace_ssd0_workload0/3472/workload_scenario_1.xml\n",
      "no scenario collection/workspace_ssd0_workload0/1796/workload_scenario_1.xml\n",
      "no scenario collection/workspace_ssd0_workload0/2148/workload_scenario_1.xml\n",
      "no scenario collection/workspace_ssd0_workload0/2918/workload_scenario_1.xml\n",
      "no scenario collection/workspace_ssd0_workload0/3981/workload_scenario_1.xml\n",
      "no scenario collection/workspace_ssd0_workload0/2456/workload_scenario_1.xml\n",
      "no scenario collection/workspace_ssd0_workload0/1482/workload_scenario_1.xml\n",
      "collection:  3816\n",
      "total : 3830\n"
     ]
    },
    {
     "name": "stderr",
     "output_type": "stream",
     "text": [
      "/opt/homebrew/anaconda3/lib/python3.9/site-packages/openpyxl/reader/excel.py:237: UserWarning: Data Validation extension is not supported and will be removed\n",
      "  ws_parser.bind_all()\n"
     ]
    }
   ],
   "source": [
    "%load_ext autoreload\n",
    "%autoreload 2\n",
    "import torch\n",
    "import torch.nn as nn\n",
    "import torch.optim as optim\n",
    "from script.tools import tools\n",
    "from script.collection import Parameter as pmt\n",
    "import sys\n",
    "print(sys.executable)\n",
    "import net\n",
    "import os\n",
    "from script.tools import collection\n",
    "#result = collection.collection(\"collection/workspace1\")  #[iops,dic_ssd,dic_worload,f.path]\n",
    "#result = collection.collection(\"collection/workspace2\",result)\n",
    "result = collection.collection(\"collection/workspace_ssd0_workload0\")\n",
    "result = result[:1000]\n",
    "plst = collection.getParameters(path=\"collection/config.xlsx\",id = \"0\")\n",
    "expect = ['Seed','key','default']\n",
    "def test(x_,y_,m, mean = 0,std = 1):\n",
    "    x_ = (x_ - mean)/std\n",
    "    y_pre = m(x_)\n",
    "    y_e = abs(y_pre - y_)/y_\n",
    "    print(torch.sum(y_e)/len(y_))"
   ]
  },
  {
   "cell_type": "code",
   "execution_count": 9,
   "outputs": [],
   "source": [
    "#print(result[0])"
   ],
   "metadata": {
    "collapsed": false
   }
  },
  {
   "cell_type": "code",
   "execution_count": 2,
   "outputs": [
    {
     "name": "stdout",
     "output_type": "stream",
     "text": [
      "19\n"
     ]
    }
   ],
   "source": [
    "#print(result[0])\n",
    "from script.tools import collection\n",
    "split_index = int(len(result)*0.7)\n",
    "train_result = result[:split_index]\n",
    "test_result  = result[split_index:]\n",
    "x_train_lst, y_train_lst, keys = collection.result2lst(train_result,plst,expect)\n",
    "x_test_lst,  y_test_lst, keys = collection.result2lst(test_result,plst,expect)\n",
    "x_train_tensor = torch.tensor(  x_train_lst  ,dtype=torch.float)\n",
    "y_train_tensor = torch.tensor( y_train_lst   ,dtype=torch.float)/10000\n",
    "x_test_tensor = torch.tensor( x_test_lst   ,dtype=torch.float)\n",
    "y_test_tensor = torch.tensor( y_test_lst   ,dtype=torch.float)/10000\n",
    "x_mean = x_train_tensor.mean(dim = 0)\n",
    "x_std = x_train_tensor.std(dim = 0)\n",
    "x_train_tensor_nor = (x_train_tensor -x_mean)/x_std\n",
    "\n",
    "dataset = collection.CustomDataset(x_train_tensor_nor, y_train_tensor)\n",
    "batch_size = 5\n",
    "dataloader = collection.DataLoader(dataset, batch_size=batch_size, shuffle=True)\n",
    "model = net.DeepNet(19,8,1,5)\n",
    "criterion = nn.MSELoss()\n",
    "print(len(keys))"
   ],
   "metadata": {
    "collapsed": false
   }
  },
  {
   "cell_type": "code",
   "execution_count": 3,
   "outputs": [
    {
     "name": "stderr",
     "output_type": "stream",
     "text": [
      "/var/folders/rd/h7txkcl151v0t98vbxrrxz8m0000gn/T/ipykernel_14669/1473277975.py:8: DataConversionWarning: A column-vector y was passed when a 1d array was expected. Please change the shape of y to (n_samples,), for example using ravel().\n",
      "  rf.fit(x_train_lst, y_train_lst)\n"
     ]
    },
    {
     "ename": "ValueError",
     "evalue": "Unknown label type: 'continuous'",
     "output_type": "error",
     "traceback": [
      "\u001B[0;31m---------------------------------------------------------------------------\u001B[0m",
      "\u001B[0;31mValueError\u001B[0m                                Traceback (most recent call last)",
      "Input \u001B[0;32mIn [3]\u001B[0m, in \u001B[0;36m<cell line: 8>\u001B[0;34m()\u001B[0m\n\u001B[1;32m      5\u001B[0m rf \u001B[38;5;241m=\u001B[39m RandomForestClassifier(n_estimators\u001B[38;5;241m=\u001B[39m\u001B[38;5;241m100\u001B[39m, random_state\u001B[38;5;241m=\u001B[39m\u001B[38;5;241m42\u001B[39m)\n\u001B[1;32m      7\u001B[0m \u001B[38;5;66;03m# 拟合模型\u001B[39;00m\n\u001B[0;32m----> 8\u001B[0m \u001B[43mrf\u001B[49m\u001B[38;5;241;43m.\u001B[39;49m\u001B[43mfit\u001B[49m\u001B[43m(\u001B[49m\u001B[43mx_train_lst\u001B[49m\u001B[43m,\u001B[49m\u001B[43m \u001B[49m\u001B[43my_train_lst\u001B[49m\u001B[43m)\u001B[49m\n\u001B[1;32m     10\u001B[0m \u001B[38;5;66;03m# 进行预测\u001B[39;00m\n\u001B[1;32m     11\u001B[0m y_pred \u001B[38;5;241m=\u001B[39m rf\u001B[38;5;241m.\u001B[39mpredict(x_test_lst)\n",
      "File \u001B[0;32m/opt/homebrew/anaconda3/lib/python3.9/site-packages/sklearn/ensemble/_forest.py:371\u001B[0m, in \u001B[0;36mBaseForest.fit\u001B[0;34m(self, X, y, sample_weight)\u001B[0m\n\u001B[1;32m    364\u001B[0m         \u001B[38;5;28;01mraise\u001B[39;00m \u001B[38;5;167;01mValueError\u001B[39;00m(\n\u001B[1;32m    365\u001B[0m             \u001B[38;5;124m\"\u001B[39m\u001B[38;5;124mSum of y is not strictly positive which \u001B[39m\u001B[38;5;124m\"\u001B[39m\n\u001B[1;32m    366\u001B[0m             \u001B[38;5;124m\"\u001B[39m\u001B[38;5;124mis necessary for Poisson regression.\u001B[39m\u001B[38;5;124m\"\u001B[39m\n\u001B[1;32m    367\u001B[0m         )\n\u001B[1;32m    369\u001B[0m \u001B[38;5;28mself\u001B[39m\u001B[38;5;241m.\u001B[39mn_outputs_ \u001B[38;5;241m=\u001B[39m y\u001B[38;5;241m.\u001B[39mshape[\u001B[38;5;241m1\u001B[39m]\n\u001B[0;32m--> 371\u001B[0m y, expanded_class_weight \u001B[38;5;241m=\u001B[39m \u001B[38;5;28;43mself\u001B[39;49m\u001B[38;5;241;43m.\u001B[39;49m\u001B[43m_validate_y_class_weight\u001B[49m\u001B[43m(\u001B[49m\u001B[43my\u001B[49m\u001B[43m)\u001B[49m\n\u001B[1;32m    373\u001B[0m \u001B[38;5;28;01mif\u001B[39;00m \u001B[38;5;28mgetattr\u001B[39m(y, \u001B[38;5;124m\"\u001B[39m\u001B[38;5;124mdtype\u001B[39m\u001B[38;5;124m\"\u001B[39m, \u001B[38;5;28;01mNone\u001B[39;00m) \u001B[38;5;241m!=\u001B[39m DOUBLE \u001B[38;5;129;01mor\u001B[39;00m \u001B[38;5;129;01mnot\u001B[39;00m y\u001B[38;5;241m.\u001B[39mflags\u001B[38;5;241m.\u001B[39mcontiguous:\n\u001B[1;32m    374\u001B[0m     y \u001B[38;5;241m=\u001B[39m np\u001B[38;5;241m.\u001B[39mascontiguousarray(y, dtype\u001B[38;5;241m=\u001B[39mDOUBLE)\n",
      "File \u001B[0;32m/opt/homebrew/anaconda3/lib/python3.9/site-packages/sklearn/ensemble/_forest.py:758\u001B[0m, in \u001B[0;36mForestClassifier._validate_y_class_weight\u001B[0;34m(self, y)\u001B[0m\n\u001B[1;32m    757\u001B[0m \u001B[38;5;28;01mdef\u001B[39;00m \u001B[38;5;21m_validate_y_class_weight\u001B[39m(\u001B[38;5;28mself\u001B[39m, y):\n\u001B[0;32m--> 758\u001B[0m     \u001B[43mcheck_classification_targets\u001B[49m\u001B[43m(\u001B[49m\u001B[43my\u001B[49m\u001B[43m)\u001B[49m\n\u001B[1;32m    760\u001B[0m     y \u001B[38;5;241m=\u001B[39m np\u001B[38;5;241m.\u001B[39mcopy(y)\n\u001B[1;32m    761\u001B[0m     expanded_class_weight \u001B[38;5;241m=\u001B[39m \u001B[38;5;28;01mNone\u001B[39;00m\n",
      "File \u001B[0;32m/opt/homebrew/anaconda3/lib/python3.9/site-packages/sklearn/utils/multiclass.py:200\u001B[0m, in \u001B[0;36mcheck_classification_targets\u001B[0;34m(y)\u001B[0m\n\u001B[1;32m    192\u001B[0m y_type \u001B[38;5;241m=\u001B[39m type_of_target(y, input_name\u001B[38;5;241m=\u001B[39m\u001B[38;5;124m\"\u001B[39m\u001B[38;5;124my\u001B[39m\u001B[38;5;124m\"\u001B[39m)\n\u001B[1;32m    193\u001B[0m \u001B[38;5;28;01mif\u001B[39;00m y_type \u001B[38;5;129;01mnot\u001B[39;00m \u001B[38;5;129;01min\u001B[39;00m [\n\u001B[1;32m    194\u001B[0m     \u001B[38;5;124m\"\u001B[39m\u001B[38;5;124mbinary\u001B[39m\u001B[38;5;124m\"\u001B[39m,\n\u001B[1;32m    195\u001B[0m     \u001B[38;5;124m\"\u001B[39m\u001B[38;5;124mmulticlass\u001B[39m\u001B[38;5;124m\"\u001B[39m,\n\u001B[0;32m   (...)\u001B[0m\n\u001B[1;32m    198\u001B[0m     \u001B[38;5;124m\"\u001B[39m\u001B[38;5;124mmultilabel-sequences\u001B[39m\u001B[38;5;124m\"\u001B[39m,\n\u001B[1;32m    199\u001B[0m ]:\n\u001B[0;32m--> 200\u001B[0m     \u001B[38;5;28;01mraise\u001B[39;00m \u001B[38;5;167;01mValueError\u001B[39;00m(\u001B[38;5;124m\"\u001B[39m\u001B[38;5;124mUnknown label type: \u001B[39m\u001B[38;5;132;01m%r\u001B[39;00m\u001B[38;5;124m\"\u001B[39m \u001B[38;5;241m%\u001B[39m y_type)\n",
      "\u001B[0;31mValueError\u001B[0m: Unknown label type: 'continuous'"
     ]
    }
   ],
   "source": [
    "from sklearn.ensemble import RandomForestClassifier\n",
    "from sklearn.metrics import accuracy_score\n",
    "\n",
    "# 创建随机森林分类器模型\n",
    "rf = RandomForestClassifier(n_estimators=100, random_state=42)\n",
    "\n",
    "# 拟合模型\n",
    "rf.fit(x_train_lst, y_train_lst)\n",
    "\n",
    "# 进行预测\n",
    "y_pred = rf.predict(x_test_lst)\n",
    "\n",
    "# 计算准确率\n",
    "accuracy = accuracy_score(y_test_lst, y_pred)\n",
    "print(\"Accuracy:\", accuracy)"
   ],
   "metadata": {
    "collapsed": false
   }
  },
  {
   "cell_type": "code",
   "execution_count": 4,
   "outputs": [
    {
     "name": "stdout",
     "output_type": "stream",
     "text": [
      "[0.18117320885449656, 8, 2362, 2, 609130, 166474, 4022368, 6786404, 1, 6, 7168, 1536, 3, 2, 1, 6, 73, 22, 41]\n"
     ]
    }
   ],
   "source": [
    "print(x_train_lst[0])"
   ],
   "metadata": {
    "collapsed": false
   }
  },
  {
   "cell_type": "code",
   "execution_count": 5,
   "outputs": [
    {
     "name": "stdout",
     "output_type": "stream",
     "text": [
      "['Overprovisioning_Ratio', 'Flash_Channel_Count', 'Channel_Transfer_Rate', 'Chip_No_Per_Channel', 'Page_Read_Latency_LSB', 'Page_Read_Latency_MSB', 'Page_Program_Latency_LSB', 'Page_Program_Latency_MSB', 'Die_No_Per_Chip', 'Plane_No_Per_Die', 'Block_No_Per_Plane', 'Page_No_Per_Block', 'Channel_IDs', 'Chip_IDs', 'Die_IDs', 'Plane_IDs', 'Initial_Occupancy_Percentage', 'Working_Set_Percentage', 'Read_Percentage']\n"
     ]
    }
   ],
   "source": [
    "print(keys)"
   ],
   "metadata": {
    "collapsed": false
   }
  },
  {
   "cell_type": "code",
   "execution_count": null,
   "outputs": [],
   "source": [],
   "metadata": {
    "collapsed": false
   }
  },
  {
   "cell_type": "markdown",
   "source": [
    "举个例子 $e^{sinx}$\n"
   ],
   "metadata": {
    "collapsed": false
   }
  },
  {
   "cell_type": "code",
   "execution_count": 21,
   "outputs": [
    {
     "data": {
      "text/plain": "<Figure size 640x480 with 1 Axes>",
      "image/png": "[encoded data removed]"
     },
     "metadata": {},
     "output_type": "display_data"
    }
   ],
   "source": [
    "import matplotlib.pyplot as plt\n",
    "fig, ax = plt.subplots()\n",
    "def draw(x0,y0,z0):\n",
    "\n",
    "    lines=[\n",
    "        [[0,x0],[0,y0],[0,z0]],\n",
    "        []\n",
    "    ]\n",
    "        for line in lines:\n",
    "        ax.plot(*zip(*line), color='black')\n",
    "\n",
    "    # 设置坐标轴范围\n",
    "    ax.set_xlim([0, 3])\n",
    "    ax.set_ylim([0, 3])\n",
    "\n",
    "    # 隐藏坐标轴\n",
    "    ax.axis('off')\n",
    "\n",
    "    plt.show()"
   ],
   "metadata": {
    "collapsed": false
   }
  },
  {
   "cell_type": "code",
   "execution_count": null,
   "outputs": [],
   "source": [],
   "metadata": {
    "collapsed": false
   }
  }
 ],
 "metadata": {
  "kernelspec": {
   "display_name": "Python 3",
   "language": "python",
   "name": "python3"
  },
  "language_info": {
   "codemirror_mode": {
    "name": "ipython",
    "version": 2
   },
   "file_extension": ".py",
   "mimetype": "text/x-python",
   "name": "python",
   "nbconvert_exporter": "python",
   "pygments_lexer": "ipython2",
   "version": "2.7.6"
  }
 },
 "nbformat": 4,
 "nbformat_minor": 0
}
