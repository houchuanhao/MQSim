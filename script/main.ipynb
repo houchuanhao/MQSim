{
 "cells": [
  {
   "cell_type": "code",
   "execution_count": 40,
   "id": "8314c615",
   "metadata": {},
   "outputs": [
    {
     "name": "stdout",
     "output_type": "stream",
     "text": [
      "The autoreload extension is already loaded. To reload it, use:\n",
      "  %reload_ext autoreload\n",
      "/opt/homebrew/anaconda3/bin/python\n",
      "collection:  472\n",
      "collection:  1774\n"
     ]
    },
    {
     "name": "stderr",
     "output_type": "stream",
     "text": [
      "/opt/homebrew/anaconda3/lib/python3.9/site-packages/openpyxl/reader/excel.py:237: UserWarning: Data Validation extension is not supported and will be removed\n",
      "  ws_parser.bind_all()\n"
     ]
    }
   ],
   "source": [
    "%load_ext autoreload\n",
    "%autoreload 2\n",
    "import torch\n",
    "import torch.nn as nn\n",
    "import torch.optim as optim\n",
    "from script.tools import tools\n",
    "from script.collection import Parameter as pmt\n",
    "import sys\n",
    "print(sys.executable)\n",
    "import net\n",
    "import os\n",
    "from script.tools import collection\n",
    "result = collection.collection(\"collection/workspace1\")  #[iops,dic_ssd,dic_worload,f.path]\n",
    "result = collection.collection(\"collection/workspace2\",result)\n",
    "plst = collection.getParameters(path=\"collection/config.xlsx\")\n",
    "\n"
   ]
  },
  {
   "cell_type": "code",
   "execution_count": 41,
   "outputs": [
    {
     "name": "stdout",
     "output_type": "stream",
     "text": [
      "inf------\n",
      "inf------\n",
      "inf------\n",
      "inf------\n",
      "inf------\n",
      "inf------\n",
      "inf------\n",
      "inf------\n",
      "inf------\n",
      "inf------\n",
      "inf------\n",
      "inf------\n",
      "inf------\n",
      "inf------\n",
      "inf------\n",
      "inf------\n",
      "inf------\n",
      "inf------\n",
      "inf------\n",
      "inf------\n",
      "inf------\n",
      "inf------\n",
      "inf------\n",
      "inf------\n",
      "inf------\n",
      "inf------\n",
      "inf------\n",
      "inf------\n",
      "inf------\n",
      "inf------\n",
      "inf------\n",
      "inf------\n",
      "inf------\n",
      "inf------\n",
      "inf------\n",
      "inf------\n",
      "inf------\n",
      "inf------\n",
      "inf------\n",
      "inf------\n",
      "inf------\n",
      "inf------\n",
      "inf------\n",
      "inf------\n",
      "inf------\n",
      "inf------\n",
      "inf------\n",
      "inf------\n",
      "inf------\n",
      "inf------\n",
      "inf------\n",
      "inf------\n",
      "inf------\n",
      "inf------\n",
      "inf------\n",
      "inf------\n",
      "inf------\n",
      "inf------\n",
      "inf------\n",
      "inf------\n",
      "1714   1714\n",
      "48\n",
      "['PCIe_Lane_Bandwidth', 'PCIe_Lane_Count', 'SATA_Processing_Delay', 'Queue_Fetch_Size', 'Data_Cache_DRAM_Row_Size', 'Data_Cache_DRAM_Data_Rate', 'Data_Cache_DRAM_Data_Busrt_Size', 'Data_Cache_DRAM_tRCD', 'Data_Cache_DRAM_tCL', 'Data_Cache_DRAM_tRP', 'Overprovisioning_Ratio', 'GC_Exec_Threshold', 'Preferred_suspend_erase_time_for_read', 'Preferred_suspend_erase_time_for_write', 'Preferred_suspend_write_time_for_read', 'Flash_Channel_Count', 'Flash_Channel_Width', 'Channel_Transfer_Rate', 'Chip_No_Per_Channel', 'Page_Read_Latency_LSB', 'Page_Read_Latency_CSB', 'Page_Read_Latency_MSB', 'Page_Program_Latency_LSB', 'Page_Program_Latency_CSB', 'Page_Program_Latency_MSB', 'Block_Erase_Latency', 'Block_PE_Cycles_Limit', 'Suspend_Erase_Time', 'Suspend_Program_Time', 'Die_No_Per_Chip', 'Plane_No_Per_Die', 'Block_No_Per_Plane', 'Page_No_Per_Block', 'Page_Capacity', 'Page_Metadat_Capacity', 'Channel_IDs', 'Chip_IDs', 'Die_IDs', 'Plane_IDs', 'Initial_Occupancy_Percentage', 'Working_Set_Percentage', 'Read_Percentage', 'Percentage_of_Hot_Region', 'Address_Alignment_Unit', 'Average_Request_Size', 'Variance_Request_Size', 'Average_No_of_Reqs_in_Queue', 'Intensity']\n"
     ]
    }
   ],
   "source": [
    "xlst = []\n",
    "ylst = []\n",
    "xylst = []\n",
    "keys = []\n",
    "expect = ['Seed','key','default']\n",
    "for iops,dic_ssd,dic_worload,path in result:\n",
    "    dic = dic_ssd\n",
    "    dic.update(dic_worload)\n",
    "    values,keys = collection.getUsefullKeys(dic,plst,expect)\n",
    "    if iops == 'inf':\n",
    "        print(\"inf------\")\n",
    "        continue\n",
    "    xlst.append(values)\n",
    "    ylst.append([float(iops)])\n",
    "    xylst.append([values,[float(iops)]])\n",
    "    keys = keys\n",
    "print(len(xlst),\" \",len(ylst))\n",
    "print(len(xlst[0]))\n",
    "print(keys)\n",
    "#print(ylst)"
   ],
   "metadata": {
    "collapsed": false
   }
  },
  {
   "cell_type": "code",
   "execution_count": 5,
   "id": "09460b96",
   "metadata": {},
   "outputs": [
    {
     "name": "stdout",
     "output_type": "stream",
     "text": [
      "torch.Size([1714, 48]) torch.Size([1714, 1])\n",
      "x_mean:  tensor([2.0686e+00, 1.9762e+01, 2.0256e+06, 2.5827e+03, 4.0766e+04, 5.0314e+02,\n",
      "        5.5753e+00, 6.5455e+01, 6.4979e+01, 6.4945e+01, 1.8852e-01, 2.5609e-01,\n",
      "        3.6033e+06, 3.5069e+06, 5.0797e+05, 1.3387e+01, 5.5554e+00, 1.6994e+03,\n",
      "        8.7007e+00, 3.8038e+05, 3.8117e+05, 3.8545e+05, 3.8317e+06, 3.7912e+06,\n",
      "        3.8314e+06, 1.9040e+07, 4.9756e+04, 3.5563e+06, 5.0236e+05, 7.4224e+00,\n",
      "        7.8232e+00, 4.3896e+03, 5.1447e+02, 1.6668e+04, 2.2411e+03, 1.6327e+21,\n",
      "        3.8614e+09, 2.9822e+07, 3.1882e+07, 5.0019e+01, 4.9661e+01, 4.8381e+01,\n",
      "        5.0604e+01, 7.9946e+01, 4.0094e+01, 4.8835e+02, 8.3526e+01, 1.6725e+05])\n",
      "x_std:  tensor([2.2697e+00, 1.1246e+01, 1.1282e+06, 1.4680e+03, 2.3436e+04, 2.8501e+02,\n",
      "        2.9105e+00, 3.7692e+01, 3.7968e+01, 3.7416e+01, 1.5028e-01, 1.4447e-01,\n",
      "        2.0143e+06, 2.0214e+06, 2.8218e+05, 1.7306e+01, 2.8703e+00, 9.4076e+02,\n",
      "        9.2861e+00, 2.1536e+05, 2.1238e+05, 2.1598e+05, 2.1459e+06, 2.1499e+06,\n",
      "        2.1362e+06, 1.1002e+07, 2.8523e+04, 2.0074e+06, 2.8481e+05, 7.8372e+00,\n",
      "        8.1280e+00, 4.9557e+03, 6.1506e+02, 1.9150e+04, 1.2633e+03, 3.7428e+22,\n",
      "        4.2351e+10, 2.6611e+08, 2.6485e+08, 2.8861e+01, 2.9579e+01, 2.8936e+01,\n",
      "        2.9658e+01, 4.7033e+01, 2.2834e+01, 2.9708e+02, 4.6155e+01, 9.3900e+04])\n",
      "y_mean:  tensor([6531.9102])\n",
      "y_std:  tensor([43160.8594])\n"
     ]
    }
   ],
   "source": [
    "x_tensor = torch.tensor(xlst,dtype=torch.float)\n",
    "y_tensor = torch.tensor(ylst,dtype=torch.float)\n",
    "print(x_tensor.size(),y_tensor.size())\n",
    "#x_ytensor = torch.tensor(xylst,dtype=torch.float)\n",
    "\n",
    "\n",
    "# 计算均值和标准差\n",
    "x_mean = x_tensor.mean(dim=0)\n",
    "x_std = x_tensor.std(dim=0)\n",
    "y_mean = y_tensor.mean(dim=0)\n",
    "y_std = y_tensor.std(dim=0)\n",
    "\n",
    "# 归一化 x 和 y\n",
    "normalized_x = (x_tensor - x_mean) / x_std\n",
    "normalized_y = (y_tensor - y_mean) / y_std\n",
    "print(\"x_mean: \",x_mean)\n",
    "print(\"x_std: \",x_std)\n",
    "print(\"y_mean: \",y_mean)\n",
    "print(\"y_std: \",y_std)\n",
    "\n"
   ]
  },
  {
   "cell_type": "code",
   "execution_count": 30,
   "outputs": [],
   "source": [
    "from torch.utils.data import Dataset, DataLoader\n",
    "import torch.optim as optim\n",
    "# 自定义数据集类\n",
    "class CustomDataset(Dataset):\n",
    "    def __init__(self, x, y):\n",
    "        self.x = x\n",
    "        self.y = y\n",
    "\n",
    "    def __len__(self):\n",
    "        return len(self.x)\n",
    "\n",
    "    def __getitem__(self, idx):\n",
    "        return self.x[idx], self.y[idx]\n",
    "\n",
    "# dataset = CustomDataset(x_tensor, y_tensor)\n",
    "dataset = CustomDataset(normalized_x, normalized_y)\n",
    "\n",
    "batch_size = 5\n",
    "dataloader = DataLoader(dataset, batch_size=batch_size, shuffle=True)\n",
    "model = net.DeepNet(48,20,1,5)\n",
    "criterion = nn.MSELoss()\n",
    "#optimizer = optim.SGD(model.parameters(), lr=0.001)\n",
    "\n",
    "\n"
   ],
   "metadata": {
    "collapsed": false
   }
  },
  {
   "cell_type": "code",
   "execution_count": 31,
   "outputs": [
    {
     "name": "stdout",
     "output_type": "stream",
     "text": [
      "Epoch [10/500], Loss: 0.9732\n",
      "Epoch [20/500], Loss: 0.6596\n",
      "Epoch [30/500], Loss: 1.0021\n",
      "Epoch [40/500], Loss: 1.0002\n",
      "Epoch [50/500], Loss: 1.0016\n",
      "Epoch [60/500], Loss: 1.0013\n",
      "Epoch [70/500], Loss: 1.0014\n",
      "Epoch [80/500], Loss: 1.0010\n",
      "Epoch [90/500], Loss: 1.0020\n",
      "Epoch [100/500], Loss: 1.0009\n",
      "Epoch [110/500], Loss: 1.0014\n",
      "Epoch [120/500], Loss: 1.0019\n",
      "Epoch [130/500], Loss: 1.0017\n",
      "Epoch [140/500], Loss: 1.0017\n",
      "Epoch [150/500], Loss: 1.0001\n",
      "Epoch [160/500], Loss: 1.0016\n",
      "Epoch [170/500], Loss: 1.0007\n",
      "Epoch [180/500], Loss: 1.0013\n",
      "Epoch [190/500], Loss: 1.0011\n",
      "Epoch [200/500], Loss: 1.0017\n",
      "Epoch [210/500], Loss: 1.0010\n",
      "Epoch [220/500], Loss: 1.0017\n",
      "Epoch [230/500], Loss: 1.0004\n",
      "Epoch [240/500], Loss: 1.0005\n",
      "Epoch [250/500], Loss: 1.0006\n",
      "Epoch [260/500], Loss: 1.0013\n",
      "Epoch [270/500], Loss: 1.0015\n",
      "Epoch [280/500], Loss: 1.0018\n",
      "Epoch [290/500], Loss: 1.0017\n",
      "Epoch [300/500], Loss: 1.0015\n",
      "Epoch [310/500], Loss: 1.0012\n",
      "Epoch [320/500], Loss: 1.0019\n",
      "Epoch [330/500], Loss: 1.0012\n",
      "Epoch [340/500], Loss: 1.0011\n",
      "Epoch [350/500], Loss: 1.0019\n",
      "Epoch [360/500], Loss: 0.9998\n",
      "Epoch [370/500], Loss: 1.0012\n",
      "Epoch [380/500], Loss: 1.0018\n",
      "Epoch [390/500], Loss: 1.0013\n",
      "Epoch [400/500], Loss: 1.0019\n",
      "Epoch [410/500], Loss: 1.0016\n",
      "Epoch [420/500], Loss: 1.0016\n",
      "Epoch [430/500], Loss: 1.0013\n",
      "Epoch [440/500], Loss: 1.0017\n",
      "Epoch [450/500], Loss: 1.0017\n",
      "Epoch [460/500], Loss: 1.0015\n",
      "Epoch [470/500], Loss: 1.0003\n",
      "Epoch [480/500], Loss: 1.0024\n",
      "Epoch [490/500], Loss: 1.0015\n",
      "Epoch [500/500], Loss: 1.0014\n"
     ]
    }
   ],
   "source": [
    "optimizer = optim.Adam(model.parameters(), lr=0.01)\n",
    "num_epochs = 500\n",
    "\n",
    "loss_history = []\n",
    "for epoch in range(num_epochs):\n",
    "    total_loss = 0.0\n",
    "    i = 0\n",
    "    for batch_x, batch_y in dataloader:\n",
    "        #print(batch_x,batch_x)\n",
    "        #i = i +1\n",
    "        #print(batch_x,\"\\n\",batch_y)\n",
    "        #print(\"zzzzzzz\")\n",
    "        # 前向传播\n",
    "        outputs = model(batch_x)\n",
    "        #print(\"batch_x\",batch_x[0],\"\\n outputs: \",outputs[0])\n",
    "        loss = criterion(outputs, batch_y)\n",
    "        i = i +1\n",
    "        if i == -1:\n",
    "            print(\"i=------\"+str(i),\"\\n outputs: \",outputs,\"\\n y:\",batch_y)\n",
    "        total_loss += loss.item()\n",
    "\n",
    "        #print(\"loss:\",loss.item(),\"batch_x: \",batch_x,\" outputs \",outputs,\" batch_y: \",batch_y)\n",
    "        # 反向传播和优化\n",
    "        optimizer.zero_grad()\n",
    "        loss.backward()\n",
    "        optimizer.step()\n",
    "    #loss_history.append(total_loss)\n",
    "    # 打印训练信息\n",
    "    if (epoch+1) % 10 == 0:\n",
    "        average_loss = total_loss / len(dataloader)\n",
    "        print(f'Epoch [{epoch+1}/{num_epochs}], Loss: {average_loss:.4f}')\n",
    "\n"
   ],
   "metadata": {
    "collapsed": false
   }
  },
  {
   "cell_type": "code",
   "execution_count": 21,
   "outputs": [
    {
     "name": "stdout",
     "output_type": "stream",
     "text": [
      "mean : tensor([6531.9102])  std tensor([43160.8594])\n",
      " out without normalization tensor([-84400.4531], grad_fn=<AddBackward0>)\n",
      "y = tensor([311.2000])  out= tensor([-3.6428e+09], grad_fn=<AddBackward0>)\n",
      "rate  tensor([11705622.], grad_fn=<DivBackward0>)\n",
      "xylst [[3.1068831595211375, 20, 3716213, 4191, 66555, 516, 4, 60, 84, 13, 0.49338852051938026, 0.46282317193091715, 1164793, 3592953, 757600, 6, 10, 622, 3, 76611, 633165, 586537, 2665367, 611208, 1644498, 34472692, 83489, 875412, 862879, 7, 6, 9316, 347, 2384, 779, 59, 3, 27, 32, 45, 52, 20, 91, 102, 72, 971, 88, 187081], [311.2]]\n"
     ]
    }
   ],
   "source": [
    "def test(m,x,y,mean,std):\n",
    "    print(\"mean :\",mean,\" std\",std)\n",
    "    out = m(x)\n",
    "    print(\" out without normalization\",out)\n",
    "    out = out * std + mean\n",
    "    print(\"y =\", y,\" out=\",out)\n",
    "    print(\"rate \",(y-out)/y)\n",
    "test(model,x_tensor[1],y_tensor[1],y_mean,y_std)\n",
    "print(\"xylst\",xylst[1])"
   ],
   "metadata": {
    "collapsed": false
   }
  },
  {
   "cell_type": "code",
   "execution_count": 16,
   "outputs": [
    {
     "name": "stdout",
     "output_type": "stream",
     "text": [
      "collection:  1070\n"
     ]
    }
   ],
   "source": [
    "result1 = []\n",
    "result1 = collection.collection(\"collection/workspace\",result1)"
   ],
   "metadata": {
    "collapsed": false,
    "pycharm": {
     "name": "#%%s\n"
    }
   }
  },
  {
   "cell_type": "code",
   "execution_count": 48,
   "outputs": [
    {
     "name": "stdout",
     "output_type": "stream",
     "text": [
      "48\n",
      "['PCIe_Lane_Bandwidth', 'PCIe_Lane_Count', 'SATA_Processing_Delay', 'Queue_Fetch_Size', 'Data_Cache_DRAM_Row_Size', 'Data_Cache_DRAM_Data_Rate', 'Data_Cache_DRAM_Data_Busrt_Size', 'Data_Cache_DRAM_tRCD', 'Data_Cache_DRAM_tCL', 'Data_Cache_DRAM_tRP', 'Overprovisioning_Ratio', 'GC_Exec_Threshold', 'Preferred_suspend_erase_time_for_read', 'Preferred_suspend_erase_time_for_write', 'Preferred_suspend_write_time_for_read', 'Flash_Channel_Count', 'Flash_Channel_Width', 'Channel_Transfer_Rate', 'Chip_No_Per_Channel', 'Page_Read_Latency_LSB', 'Page_Read_Latency_CSB', 'Page_Read_Latency_MSB', 'Page_Program_Latency_LSB', 'Page_Program_Latency_CSB', 'Page_Program_Latency_MSB', 'Block_Erase_Latency', 'Block_PE_Cycles_Limit', 'Suspend_Erase_Time', 'Suspend_Program_Time', 'Die_No_Per_Chip', 'Plane_No_Per_Die', 'Block_No_Per_Plane', 'Page_No_Per_Block', 'Page_Capacity', 'Page_Metadat_Capacity', 'Channel_IDs', 'Chip_IDs', 'Die_IDs', 'Plane_IDs', 'Initial_Occupancy_Percentage', 'Working_Set_Percentage', 'Read_Percentage', 'Percentage_of_Hot_Region', 'Address_Alignment_Unit', 'Average_Request_Size', 'Variance_Request_Size', 'Average_No_of_Reqs_in_Queue', 'Intensity']\n",
      "lst2excel test.xlsx\n"
     ]
    }
   ],
   "source": [
    "#print(xlst[0])\n",
    "print(len(xlst[0]))\n",
    "tx = []\n",
    "tx.append(keys)\n",
    "i = 0\n",
    "for y_ in ylst:\n",
    "    x_ = xlst[i].copy()\n",
    "    x_.append(y_[0])\n",
    "    tx.append(x_)\n",
    "    i = i + 1\n",
    "print(tx[0])\n",
    "tools.lst2excel(tx,\"test.xlsx\")"
   ],
   "metadata": {
    "collapsed": false
   }
  },
  {
   "cell_type": "code",
   "execution_count": 35,
   "outputs": [
    {
     "name": "stdout",
     "output_type": "stream",
     "text": [
      "48\n"
     ]
    }
   ],
   "source": [
    "print(len(keys))"
   ],
   "metadata": {
    "collapsed": false
   }
  },
  {
   "cell_type": "code",
   "execution_count": null,
   "outputs": [],
   "source": [],
   "metadata": {
    "collapsed": false
   }
  }
 ],
 "metadata": {
  "kernelspec": {
   "display_name": "Python 3 (ipykernel)",
   "language": "python",
   "name": "python3"
  },
  "language_info": {
   "codemirror_mode": {
    "name": "ipython",
    "version": 3
   },
   "file_extension": ".py",
   "mimetype": "text/x-python",
   "name": "python",
   "nbconvert_exporter": "python",
   "pygments_lexer": "ipython3",
   "version": "3.9.13"
  }
 },
 "nbformat": 4,
 "nbformat_minor": 5
}
