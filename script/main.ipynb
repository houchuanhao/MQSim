{
 "cells": [
  {
   "cell_type": "code",
   "execution_count": 6,
   "id": "8314c615",
   "metadata": {},
   "outputs": [
    {
     "name": "stdout",
     "output_type": "stream",
     "text": [
      "/opt/homebrew/anaconda3/bin/python\n",
      "<module 'script.tools.collection' from '/Users/ezra/worksapce/MQSim/script/tools/collection.py'>\n",
      "472\n",
      "1774\n"
     ]
    }
   ],
   "source": [
    "import torch\n",
    "import torch.nn as nn\n",
    "import torch.optim as optim\n",
    "from script.tools import tools\n",
    "import sys\n",
    "print(sys.executable)\n",
    "import net\n",
    "import os\n",
    "from script.tools import collection\n",
    "\n",
    "print(collection)\n",
    "result = collection.collection(\"collection/workspace1\")\n",
    "result = collection.collection(\"collection/workspace2\",result)"
   ]
  },
  {
   "cell_type": "code",
   "execution_count": 7,
   "id": "09460b96",
   "metadata": {},
   "outputs": [
    {
     "name": "stdout",
     "output_type": "stream",
     "text": [
      "1774\n"
     ]
    }
   ],
   "source": [
    "print(len(result))"
   ]
  },
  {
   "cell_type": "code",
   "execution_count": 38,
   "outputs": [
    {
     "name": "stdout",
     "output_type": "stream",
     "text": [
      "tensor([[4.2950e+09, 2.0000e+00, 3.0000e+00, 4.0000e+00, 5.0000e+00],\n",
      "        [1.0000e+00, 2.0000e+00, 3.0000e+00, 4.0000e+00, 6.0000e+00]])\n",
      "<class 'torch.Tensor'>\n",
      "4\n",
      "tensor([[-0.0323],\n",
      "        [-0.0269]], grad_fn=<AddmmBackward0>)\n"
     ]
    }
   ],
   "source": [
    "my_list = [[pow(2,32), 2, 3, 4, 5],[1,2,3,4,6]]\n",
    "\n",
    "# 将列表转换为张量\n",
    "my_tensor = torch.tensor(my_list,dtype=torch.float)\n",
    "print(my_tensor)\n",
    "print(type(my_tensor))\n",
    "m = net.net(5, 4,20, 1)\n",
    "out = m(my_tensor)\n",
    "print(out)"
   ],
   "metadata": {
    "collapsed": false
   }
  },
  {
   "cell_type": "code",
   "execution_count": null,
   "outputs": [],
   "source": [],
   "metadata": {
    "collapsed": false
   }
  }
 ],
 "metadata": {
  "kernelspec": {
   "display_name": "Python 3 (ipykernel)",
   "language": "python",
   "name": "python3"
  },
  "language_info": {
   "codemirror_mode": {
    "name": "ipython",
    "version": 3
   },
   "file_extension": ".py",
   "mimetype": "text/x-python",
   "name": "python",
   "nbconvert_exporter": "python",
   "pygments_lexer": "ipython3",
   "version": "3.9.13"
  }
 },
 "nbformat": 4,
 "nbformat_minor": 5
}
